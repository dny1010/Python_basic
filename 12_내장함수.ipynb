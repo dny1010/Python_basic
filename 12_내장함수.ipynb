{
 "cells": [
  {
   "cell_type": "markdown",
   "id": "4bc96075-1da6-4b4c-a448-48eaf5703511",
   "metadata": {},
   "source": [
    "abs() : 절댓값"
   ]
  },
  {
   "cell_type": "code",
   "execution_count": 1,
   "id": "0e2e0088-296f-4367-ac70-33f548e81ef6",
   "metadata": {},
   "outputs": [
    {
     "name": "stdout",
     "output_type": "stream",
     "text": [
      "3\n",
      "3\n"
     ]
    }
   ],
   "source": [
    "print(abs(3))\n",
    "print(abs(-3))"
   ]
  },
  {
   "cell_type": "markdown",
   "id": "89966163-2946-4896-ad84-96ff80636d81",
   "metadata": {},
   "source": [
    "all() : 반복 가능한 데이터에서 각 요소 확인하여 모든 요소가 참이면 True (= 논리연산자 and)"
   ]
  },
  {
   "cell_type": "code",
   "execution_count": 2,
   "id": "89193863-4d31-497f-bb39-8fa0f9aa2d21",
   "metadata": {},
   "outputs": [
    {
     "data": {
      "text/plain": [
       "True"
      ]
     },
     "execution_count": 2,
     "metadata": {},
     "output_type": "execute_result"
    }
   ],
   "source": [
    "all([1,2,3])"
   ]
  },
  {
   "cell_type": "code",
   "execution_count": 4,
   "id": "142f4677-3876-4323-a0a0-5a4457db4c36",
   "metadata": {},
   "outputs": [
    {
     "data": {
      "text/plain": [
       "False"
      ]
     },
     "execution_count": 4,
     "metadata": {},
     "output_type": "execute_result"
    }
   ],
   "source": [
    "all((0, [], \"\",1,2,3)) # 튜플형식"
   ]
  },
  {
   "cell_type": "code",
   "execution_count": 6,
   "id": "bf352ecc-eb9f-4612-9482-7cf50a2f4d70",
   "metadata": {},
   "outputs": [
    {
     "data": {
      "text/plain": [
       "True"
      ]
     },
     "execution_count": 6,
     "metadata": {},
     "output_type": "execute_result"
    }
   ],
   "source": [
    "all([]) # 빈 값인 경우 True 리턴"
   ]
  },
  {
   "cell_type": "code",
   "execution_count": 7,
   "id": "1f27e4b3-2f6b-4aad-b9a2-fe7e2048fb51",
   "metadata": {},
   "outputs": [
    {
     "data": {
      "text/plain": [
       "True"
      ]
     },
     "execution_count": 7,
     "metadata": {},
     "output_type": "execute_result"
    }
   ],
   "source": [
    "all(\"\")"
   ]
  },
  {
   "cell_type": "markdown",
   "id": "1fc201b8-5a9c-4a63-93a8-f8688526101d",
   "metadata": {},
   "source": [
    "any() : 반복 가능한 데이터에서 각 요소에 하나라도 참이 있으면 True (=논리연산자 or) / \n",
    "all()하고 반대로 동작"
   ]
  },
  {
   "cell_type": "code",
   "execution_count": 11,
   "id": "2b7defd4-cf2c-4344-8db6-bef792b0a60e",
   "metadata": {},
   "outputs": [
    {
     "data": {
      "text/plain": [
       "True"
      ]
     },
     "execution_count": 11,
     "metadata": {},
     "output_type": "execute_result"
    }
   ],
   "source": [
    "any([1,0])"
   ]
  },
  {
   "cell_type": "code",
   "execution_count": 12,
   "id": "56fc41b4-ecbe-43f7-8e11-78b77bd15cf9",
   "metadata": {},
   "outputs": [
    {
     "data": {
      "text/plain": [
       "False"
      ]
     },
     "execution_count": 12,
     "metadata": {},
     "output_type": "execute_result"
    }
   ],
   "source": [
    "any([0,\"\"])"
   ]
  },
  {
   "cell_type": "code",
   "execution_count": 13,
   "id": "c1c46498-6abd-4cde-8a59-d93e827b5f42",
   "metadata": {},
   "outputs": [
    {
     "data": {
      "text/plain": [
       "False"
      ]
     },
     "execution_count": 13,
     "metadata": {},
     "output_type": "execute_result"
    }
   ],
   "source": [
    "any([]) # 빈 값은 False (all<->any)"
   ]
  },
  {
   "cell_type": "markdown",
   "id": "cd7c2098-ae1b-4d03-a06f-2aa11aedcc05",
   "metadata": {},
   "source": [
    "chr() : 유니코드 값 반환 <-> ord() : 유니코드 값을 문자로 반환"
   ]
  },
  {
   "cell_type": "code",
   "execution_count": 14,
   "id": "91d4270a-3112-4617-a303-c3ab86045075",
   "metadata": {},
   "outputs": [
    {
     "data": {
      "text/plain": [
       "'a'"
      ]
     },
     "execution_count": 14,
     "metadata": {},
     "output_type": "execute_result"
    }
   ],
   "source": [
    "chr(97)"
   ]
  },
  {
   "cell_type": "code",
   "execution_count": 17,
   "id": "ae39fe0d-c50d-468b-bfcc-aef04618e4d9",
   "metadata": {},
   "outputs": [
    {
     "data": {
      "text/plain": [
       "'A'"
      ]
     },
     "execution_count": 17,
     "metadata": {},
     "output_type": "execute_result"
    }
   ],
   "source": [
    "chr(65)"
   ]
  },
  {
   "cell_type": "code",
   "execution_count": 18,
   "id": "ec83a2e6-ffcf-4d21-8cf7-a411be4f38a6",
   "metadata": {},
   "outputs": [
    {
     "data": {
      "text/plain": [
       "'가'"
      ]
     },
     "execution_count": 18,
     "metadata": {},
     "output_type": "execute_result"
    }
   ],
   "source": [
    "chr(44032)"
   ]
  },
  {
   "cell_type": "code",
   "execution_count": 19,
   "id": "57dae340-304f-4a54-802f-c23e7184231b",
   "metadata": {},
   "outputs": [
    {
     "data": {
      "text/plain": [
       "'각'"
      ]
     },
     "execution_count": 19,
     "metadata": {},
     "output_type": "execute_result"
    }
   ],
   "source": [
    "chr(44033)"
   ]
  },
  {
   "cell_type": "markdown",
   "id": "e439c13a-0acc-4b22-9e4a-8ffb18a760dd",
   "metadata": {},
   "source": [
    "dir() : 객체가 지닌 변수나 함수를 보여주는 함수"
   ]
  },
  {
   "cell_type": "code",
   "execution_count": 20,
   "id": "3d4e163e-3d6b-45c6-8452-e178ff069398",
   "metadata": {},
   "outputs": [
    {
     "data": {
      "text/plain": [
       "['__add__',\n",
       " '__class__',\n",
       " '__class_getitem__',\n",
       " '__contains__',\n",
       " '__delattr__',\n",
       " '__delitem__',\n",
       " '__dir__',\n",
       " '__doc__',\n",
       " '__eq__',\n",
       " '__format__',\n",
       " '__ge__',\n",
       " '__getattribute__',\n",
       " '__getitem__',\n",
       " '__getstate__',\n",
       " '__gt__',\n",
       " '__hash__',\n",
       " '__iadd__',\n",
       " '__imul__',\n",
       " '__init__',\n",
       " '__init_subclass__',\n",
       " '__iter__',\n",
       " '__le__',\n",
       " '__len__',\n",
       " '__lt__',\n",
       " '__mul__',\n",
       " '__ne__',\n",
       " '__new__',\n",
       " '__reduce__',\n",
       " '__reduce_ex__',\n",
       " '__repr__',\n",
       " '__reversed__',\n",
       " '__rmul__',\n",
       " '__setattr__',\n",
       " '__setitem__',\n",
       " '__sizeof__',\n",
       " '__str__',\n",
       " '__subclasshook__',\n",
       " 'append',\n",
       " 'clear',\n",
       " 'copy',\n",
       " 'count',\n",
       " 'extend',\n",
       " 'index',\n",
       " 'insert',\n",
       " 'pop',\n",
       " 'remove',\n",
       " 'reverse',\n",
       " 'sort']"
      ]
     },
     "execution_count": 20,
     "metadata": {},
     "output_type": "execute_result"
    }
   ],
   "source": [
    "dir([1,2,3])"
   ]
  },
  {
   "cell_type": "code",
   "execution_count": 1,
   "id": "3e6dda25-af92-4400-b163-d40401f63f55",
   "metadata": {},
   "outputs": [
    {
     "data": {
      "text/plain": [
       "['__add__',\n",
       " '__class__',\n",
       " '__contains__',\n",
       " '__delattr__',\n",
       " '__dir__',\n",
       " '__doc__',\n",
       " '__eq__',\n",
       " '__format__',\n",
       " '__ge__',\n",
       " '__getattribute__',\n",
       " '__getitem__',\n",
       " '__getnewargs__',\n",
       " '__getstate__',\n",
       " '__gt__',\n",
       " '__hash__',\n",
       " '__init__',\n",
       " '__init_subclass__',\n",
       " '__iter__',\n",
       " '__le__',\n",
       " '__len__',\n",
       " '__lt__',\n",
       " '__mod__',\n",
       " '__mul__',\n",
       " '__ne__',\n",
       " '__new__',\n",
       " '__reduce__',\n",
       " '__reduce_ex__',\n",
       " '__repr__',\n",
       " '__rmod__',\n",
       " '__rmul__',\n",
       " '__setattr__',\n",
       " '__sizeof__',\n",
       " '__str__',\n",
       " '__subclasshook__',\n",
       " 'capitalize',\n",
       " 'casefold',\n",
       " 'center',\n",
       " 'count',\n",
       " 'encode',\n",
       " 'endswith',\n",
       " 'expandtabs',\n",
       " 'find',\n",
       " 'format',\n",
       " 'format_map',\n",
       " 'index',\n",
       " 'isalnum',\n",
       " 'isalpha',\n",
       " 'isascii',\n",
       " 'isdecimal',\n",
       " 'isdigit',\n",
       " 'isidentifier',\n",
       " 'islower',\n",
       " 'isnumeric',\n",
       " 'isprintable',\n",
       " 'isspace',\n",
       " 'istitle',\n",
       " 'isupper',\n",
       " 'join',\n",
       " 'ljust',\n",
       " 'lower',\n",
       " 'lstrip',\n",
       " 'maketrans',\n",
       " 'partition',\n",
       " 'removeprefix',\n",
       " 'removesuffix',\n",
       " 'replace',\n",
       " 'rfind',\n",
       " 'rindex',\n",
       " 'rjust',\n",
       " 'rpartition',\n",
       " 'rsplit',\n",
       " 'rstrip',\n",
       " 'split',\n",
       " 'splitlines',\n",
       " 'startswith',\n",
       " 'strip',\n",
       " 'swapcase',\n",
       " 'title',\n",
       " 'translate',\n",
       " 'upper',\n",
       " 'zfill']"
      ]
     },
     "execution_count": 1,
     "metadata": {},
     "output_type": "execute_result"
    }
   ],
   "source": [
    "dir(\"\")"
   ]
  },
  {
   "cell_type": "code",
   "execution_count": 21,
   "id": "b88c64d3-a1c0-4bd0-836c-d7de98ff0087",
   "metadata": {},
   "outputs": [
    {
     "data": {
      "text/plain": [
       "['__class__',\n",
       " '__class_getitem__',\n",
       " '__contains__',\n",
       " '__delattr__',\n",
       " '__delitem__',\n",
       " '__dir__',\n",
       " '__doc__',\n",
       " '__eq__',\n",
       " '__format__',\n",
       " '__ge__',\n",
       " '__getattribute__',\n",
       " '__getitem__',\n",
       " '__getstate__',\n",
       " '__gt__',\n",
       " '__hash__',\n",
       " '__init__',\n",
       " '__init_subclass__',\n",
       " '__ior__',\n",
       " '__iter__',\n",
       " '__le__',\n",
       " '__len__',\n",
       " '__lt__',\n",
       " '__ne__',\n",
       " '__new__',\n",
       " '__or__',\n",
       " '__reduce__',\n",
       " '__reduce_ex__',\n",
       " '__repr__',\n",
       " '__reversed__',\n",
       " '__ror__',\n",
       " '__setattr__',\n",
       " '__setitem__',\n",
       " '__sizeof__',\n",
       " '__str__',\n",
       " '__subclasshook__',\n",
       " 'clear',\n",
       " 'copy',\n",
       " 'fromkeys',\n",
       " 'get',\n",
       " 'items',\n",
       " 'keys',\n",
       " 'pop',\n",
       " 'popitem',\n",
       " 'setdefault',\n",
       " 'update',\n",
       " 'values']"
      ]
     },
     "execution_count": 21,
     "metadata": {},
     "output_type": "execute_result"
    }
   ],
   "source": [
    "dir({})"
   ]
  },
  {
   "cell_type": "markdown",
   "id": "ed74253c-aa8c-4859-98b7-87fd62ba858b",
   "metadata": {},
   "source": [
    "divmod() : 두 수 나누기 후 몫과 나머지를 튜플로 반환"
   ]
  },
  {
   "cell_type": "code",
   "execution_count": 26,
   "id": "945938b6-2862-4d44-b2b4-e454b95d6cab",
   "metadata": {},
   "outputs": [
    {
     "data": {
      "text/plain": [
       "(2, 1)"
      ]
     },
     "execution_count": 26,
     "metadata": {},
     "output_type": "execute_result"
    }
   ],
   "source": [
    "divmod(7,3)"
   ]
  },
  {
   "cell_type": "code",
   "execution_count": 27,
   "id": "e9671c2f-2020-4556-b127-d29da9ebaad1",
   "metadata": {},
   "outputs": [
    {
     "data": {
      "text/plain": [
       "2"
      ]
     },
     "execution_count": 27,
     "metadata": {},
     "output_type": "execute_result"
    }
   ],
   "source": [
    "7//3"
   ]
  },
  {
   "cell_type": "code",
   "execution_count": 29,
   "id": "bd259f47-85d6-4d17-810e-06ef2725426a",
   "metadata": {},
   "outputs": [
    {
     "data": {
      "text/plain": [
       "1"
      ]
     },
     "execution_count": 29,
     "metadata": {},
     "output_type": "execute_result"
    }
   ],
   "source": [
    "7%3"
   ]
  },
  {
   "cell_type": "markdown",
   "id": "d13e84df-ccb3-448f-8001-13e983aa1f66",
   "metadata": {},
   "source": [
    "enumerate() : 순서가 있는 데이터의 인덱스 값을 포함하는 enumerate객체를 리턴"
   ]
  },
  {
   "cell_type": "code",
   "execution_count": 31,
   "id": "ab9b03a3-4d84-43f8-9126-f3cde8d4d84d",
   "metadata": {},
   "outputs": [
    {
     "name": "stdout",
     "output_type": "stream",
     "text": [
      "0 body\n",
      "1 foo\n",
      "2 bar\n"
     ]
    }
   ],
   "source": [
    "for i, name in enumerate(['body','foo','bar']): # i는 인덱스 번호, name은 밸류값\n",
    "    print(i,name)"
   ]
  },
  {
   "cell_type": "code",
   "execution_count": 56,
   "id": "37b02599-d31f-4431-9852-b867511c1af7",
   "metadata": {},
   "outputs": [
    {
     "name": "stdout",
     "output_type": "stream",
     "text": [
      "0 ('a', 1)\n",
      "1 ('b', 2)\n",
      "2 ('c', 3)\n"
     ]
    }
   ],
   "source": [
    "for i, item in enumerate({'a':1,'b':2,'c':3}.items()): # 본체는 class - 객체는 class 안에 있는 것\n",
    "    print(i, item)    # items를 활용하면 key랑 value값을 둘 다 가져올 수 있음"
   ]
  },
  {
   "cell_type": "markdown",
   "id": "b50d7ba3-e90e-4e7d-b911-718f9914fa84",
   "metadata": {},
   "source": [
    "eval() : expression / 표현식(문자열)을 실행한 결과값을 리턴"
   ]
  },
  {
   "cell_type": "code",
   "execution_count": 38,
   "id": "865c267e-3d3e-47ee-b22d-945cceb83119",
   "metadata": {},
   "outputs": [
    {
     "name": "stdout",
     "output_type": "stream",
     "text": [
      "1+2\n"
     ]
    }
   ],
   "source": [
    "print(\"1+2\")"
   ]
  },
  {
   "cell_type": "code",
   "execution_count": 40,
   "id": "40372093-b755-43ca-a25a-49132396defb",
   "metadata": {},
   "outputs": [
    {
     "name": "stdout",
     "output_type": "stream",
     "text": [
      "3\n"
     ]
    }
   ],
   "source": [
    "print(eval(\"1+2\"))"
   ]
  },
  {
   "cell_type": "code",
   "execution_count": 41,
   "id": "89f318a2-e7a9-4076-b2dd-cccd87bd0fec",
   "metadata": {},
   "outputs": [
    {
     "data": {
      "text/plain": [
       "'hia'"
      ]
     },
     "execution_count": 41,
     "metadata": {},
     "output_type": "execute_result"
    }
   ],
   "source": [
    "eval(\"'hi'+'a'\")"
   ]
  },
  {
   "cell_type": "code",
   "execution_count": 52,
   "id": "780c1027-3430-43db-ab84-28bca551df81",
   "metadata": {},
   "outputs": [
    {
     "ename": "TypeError",
     "evalue": "can only concatenate str (not \"int\") to str",
     "output_type": "error",
     "traceback": [
      "\u001b[1;31m---------------------------------------------------------------------------\u001b[0m",
      "\u001b[1;31mTypeError\u001b[0m                                 Traceback (most recent call last)",
      "Cell \u001b[1;32mIn[52], line 1\u001b[0m\n\u001b[1;32m----> 1\u001b[0m \u001b[38;5;28meval\u001b[39m(\u001b[38;5;124m\"\u001b[39m\u001b[38;5;124m'\u001b[39m\u001b[38;5;124mMonday\u001b[39m\u001b[38;5;124m'\u001b[39m\u001b[38;5;124m+3+98\u001b[39m\u001b[38;5;124m\"\u001b[39m)\n",
      "File \u001b[1;32m<string>:1\u001b[0m\n",
      "\u001b[1;31mTypeError\u001b[0m: can only concatenate str (not \"int\") to str"
     ]
    }
   ],
   "source": [
    "eval(\"'Monday'+3+98\")"
   ]
  },
  {
   "cell_type": "code",
   "execution_count": 53,
   "id": "9e4a8409-7749-4718-94d1-089c76da96ba",
   "metadata": {},
   "outputs": [
    {
     "data": {
      "text/plain": [
       "'Monday398'"
      ]
     },
     "execution_count": 53,
     "metadata": {},
     "output_type": "execute_result"
    }
   ],
   "source": [
    "eval(\"'Monday'+'3'+'98'\")"
   ]
  },
  {
   "cell_type": "markdown",
   "id": "31c58053-d76e-4d58-b4d1-22aba519052c",
   "metadata": {},
   "source": [
    "** filter() : filter안에서 정의한 함수의 결과값이 참인 것만 반환 => map함수랑 비슷함 / # 함수 안에 함수가 들어가는 것 = callback함수라고 함 => javascript도 똑같이 씀 !"
   ]
  },
  {
   "cell_type": "code",
   "execution_count": 58,
   "id": "f43c785a-f27b-4d65-a8ae-ab5889eec1a3",
   "metadata": {},
   "outputs": [
    {
     "name": "stdout",
     "output_type": "stream",
     "text": [
      "[1, 2, 6]\n"
     ]
    }
   ],
   "source": [
    "# 일반함수로 양수값만 리턴\n",
    "def positive(list):\n",
    "    result = []\n",
    "    for i in list:\n",
    "        if i>0:\n",
    "            result.append(i)\n",
    "    return result\n",
    "\n",
    "print(positive([1,-3,2,0,-5,6]))"
   ]
  },
  {
   "cell_type": "code",
   "execution_count": 60,
   "id": "ec0c69b0-f361-44e0-b443-b50044013919",
   "metadata": {},
   "outputs": [
    {
     "name": "stdout",
     "output_type": "stream",
     "text": [
      "[1, 2, 6]\n"
     ]
    }
   ],
   "source": [
    "# filter함수로 양수값만 반환\n",
    "def positive(x):\n",
    "    return x>0\n",
    "\n",
    "print(list(filter(positive,[1,-3,2,0,-5,6]))) # filter안에 첫번째에는 함수가 들어감 / list를 안 넣어주면 filter의 주소값만 보임"
   ]
  },
  {
   "cell_type": "code",
   "execution_count": 63,
   "id": "31b47fcd-9595-47b8-a215-89c9a579c7d8",
   "metadata": {},
   "outputs": [
    {
     "data": {
      "text/plain": [
       "[1, 2, 6]"
      ]
     },
     "execution_count": 63,
     "metadata": {},
     "output_type": "execute_result"
    }
   ],
   "source": [
    "# lambda 함수 사용 / 위에 def positive를 lambda로 표현, lambda는 return 생략가능\n",
    "list(filter(lambda x: x>0,[1,-3,2,0,-5,6]))"
   ]
  },
  {
   "cell_type": "markdown",
   "id": "626ee0ef-0568-448a-95f8-dd89f598c5ba",
   "metadata": {},
   "source": [
    "map() : map안에서 선언한 함수의 결과값을 반환"
   ]
  },
  {
   "cell_type": "code",
   "execution_count": 65,
   "id": "9154a1ae-da3a-4785-b1b6-78d3dbe4ae21",
   "metadata": {
    "editable": true,
    "slideshow": {
     "slide_type": ""
    },
    "tags": []
   },
   "outputs": [
    {
     "name": "stdout",
     "output_type": "stream",
     "text": [
      "[2, 4, 6, 8]\n"
     ]
    }
   ],
   "source": [
    "# 일반함수로 리스트 각 요소에 *2 해서 새로운 list로 반환\n",
    "def two_times(list):\n",
    "    result = []\n",
    "    for i in list:\n",
    "        result.append(i*2)\n",
    "    return result\n",
    "\n",
    "print(two_times([1,2,3,4]))"
   ]
  },
  {
   "cell_type": "code",
   "execution_count": 67,
   "id": "ed3b99f6-1d49-4ecf-969b-d820c06e9fe3",
   "metadata": {},
   "outputs": [
    {
     "data": {
      "text/plain": [
       "[2, 4, 6, 8]"
      ]
     },
     "execution_count": 67,
     "metadata": {},
     "output_type": "execute_result"
    }
   ],
   "source": [
    "# map함수로 리스트 각 요소에 *2\n",
    "def two_times(x):\n",
    "    return x*2\n",
    "\n",
    "list(map(two_times, [1,2,3,4])) # 리스트 안 쓰면 주소값만 반환"
   ]
  },
  {
   "cell_type": "code",
   "execution_count": 69,
   "id": "57c7d047-468f-43b8-ad3c-126cc7db5a5b",
   "metadata": {},
   "outputs": [
    {
     "data": {
      "text/plain": [
       "[2, 4, 6, 8]"
      ]
     },
     "execution_count": 69,
     "metadata": {},
     "output_type": "execute_result"
    }
   ],
   "source": [
    "# lambda함수로 리스트 각 요소에 *2\n",
    "list(map(lambda x: x*2, [1,2,3,4]))"
   ]
  },
  {
   "cell_type": "markdown",
   "id": "dfbc1d3a-1e29-4875-bd02-5ba93e4767ae",
   "metadata": {},
   "source": [
    "hex() : 정수 입력받아 16진수로 반환"
   ]
  },
  {
   "cell_type": "code",
   "execution_count": 71,
   "id": "2c522b2b-56e3-4322-8e53-f96e29f30c7c",
   "metadata": {},
   "outputs": [
    {
     "name": "stdout",
     "output_type": "stream",
     "text": [
      "0xea\n",
      "0x3\n",
      "0xd\n",
      "0x10\n"
     ]
    }
   ],
   "source": [
    "print(hex(234))\n",
    "print(hex(3))\n",
    "print(hex(13))\n",
    "print(hex(16))"
   ]
  },
  {
   "cell_type": "markdown",
   "id": "8cf66751-b85b-4b45-a387-7dc4ff33619b",
   "metadata": {},
   "source": [
    "id() : 객체의 주소값 확인"
   ]
  },
  {
   "cell_type": "code",
   "execution_count": 72,
   "id": "cad862dd-7f53-48cc-8856-15b7d715de72",
   "metadata": {},
   "outputs": [
    {
     "data": {
      "text/plain": [
       "140733258576872"
      ]
     },
     "execution_count": 72,
     "metadata": {},
     "output_type": "execute_result"
    }
   ],
   "source": [
    "a = 3\n",
    "id(a)"
   ]
  },
  {
   "cell_type": "code",
   "execution_count": 73,
   "id": "b44ab0b2-d4b2-4ab1-8be8-0004581eb2f1",
   "metadata": {},
   "outputs": [
    {
     "data": {
      "text/plain": [
       "140733258576872"
      ]
     },
     "execution_count": 73,
     "metadata": {},
     "output_type": "execute_result"
    }
   ],
   "source": [
    "b = a\n",
    "id(b)"
   ]
  },
  {
   "cell_type": "markdown",
   "id": "fb5aebbe-75d5-40ff-9f24-539b39b03dca",
   "metadata": {},
   "source": [
    "isinstance() : 객체가 그 클래스의 인스턴스인지 판단\n",
    "(클래스로 객체를 만든 게 instance / 앞에 is가 붙으면 T,F 구분)"
   ]
  },
  {
   "cell_type": "code",
   "execution_count": 75,
   "id": "f086ceb7-63bc-41c2-80e3-4db1c24278cc",
   "metadata": {},
   "outputs": [
    {
     "name": "stdout",
     "output_type": "stream",
     "text": [
      "True\n"
     ]
    }
   ],
   "source": [
    "class Person: pass\n",
    "a = Person() # a는 Person의 인스턴스\n",
    "print(isinstance(a, Person))"
   ]
  },
  {
   "cell_type": "code",
   "execution_count": 76,
   "id": "60ce2098-f71f-48a7-991b-2a6a16079f4d",
   "metadata": {},
   "outputs": [
    {
     "data": {
      "text/plain": [
       "False"
      ]
     },
     "execution_count": 76,
     "metadata": {},
     "output_type": "execute_result"
    }
   ],
   "source": [
    "b = 3\n",
    "isinstance(b,Person)"
   ]
  },
  {
   "cell_type": "markdown",
   "id": "c0bc6386-5d8a-4772-9a83-740df649d89b",
   "metadata": {},
   "source": [
    "max() : 최댓값, min() : 최솟값"
   ]
  },
  {
   "cell_type": "code",
   "execution_count": 77,
   "id": "f38647d5-1379-4b0f-a8bf-92e13ac5184d",
   "metadata": {},
   "outputs": [
    {
     "name": "stdout",
     "output_type": "stream",
     "text": [
      "3\n",
      "y\n"
     ]
    }
   ],
   "source": [
    "print(max([1,2,3]))\n",
    "print(max(\"python\"))"
   ]
  },
  {
   "cell_type": "code",
   "execution_count": 78,
   "id": "814b2a11-d280-4f75-ad09-26285c3ca4d6",
   "metadata": {},
   "outputs": [
    {
     "name": "stdout",
     "output_type": "stream",
     "text": [
      "1\n",
      "h\n"
     ]
    }
   ],
   "source": [
    "print(min([1,2,3]))\n",
    "print(min(\"python\"))"
   ]
  },
  {
   "cell_type": "markdown",
   "id": "8ebdf62c-e31e-4aff-ab5c-0287164631e9",
   "metadata": {},
   "source": [
    "ord() : chr()반대, 문자를 전달인자로 넣으면 유니코드 값 반환"
   ]
  },
  {
   "cell_type": "code",
   "execution_count": 79,
   "id": "b60f9fbf-d6c2-4bef-8450-0233820e295d",
   "metadata": {},
   "outputs": [
    {
     "name": "stdout",
     "output_type": "stream",
     "text": [
      "97\n",
      "65\n",
      "48\n"
     ]
    }
   ],
   "source": [
    "print(ord('a'))\n",
    "print(ord('A'))\n",
    "print(ord('0'))"
   ]
  },
  {
   "cell_type": "markdown",
   "id": "f3bd95c7-04af-4a0c-96cb-75de6b19e12c",
   "metadata": {},
   "source": [
    "range() : 범위값을 반복 가능한 객체로 만들어 리턴 (range([start,] stop [,step]))"
   ]
  },
  {
   "cell_type": "code",
   "execution_count": 80,
   "id": "6630e05b-450c-4379-b0b2-d5c8b993a804",
   "metadata": {},
   "outputs": [
    {
     "data": {
      "text/plain": [
       "[0, 1, 2, 3, 4]"
      ]
     },
     "execution_count": 80,
     "metadata": {},
     "output_type": "execute_result"
    }
   ],
   "source": [
    "# 인수가 하나일 때\n",
    "list(range(5))"
   ]
  },
  {
   "cell_type": "code",
   "execution_count": 81,
   "id": "72322e27-31a0-4b5e-aea0-3bd883f3698a",
   "metadata": {},
   "outputs": [
    {
     "data": {
      "text/plain": [
       "[5, 6, 7, 8, 9]"
      ]
     },
     "execution_count": 81,
     "metadata": {},
     "output_type": "execute_result"
    }
   ],
   "source": [
    "# 인수가 두개일 때\n",
    "list(range(5,10))"
   ]
  },
  {
   "cell_type": "code",
   "execution_count": 84,
   "id": "78e5ef41-b411-4aa6-bcb6-b233944d5f0d",
   "metadata": {},
   "outputs": [
    {
     "name": "stdout",
     "output_type": "stream",
     "text": [
      "[1, 3, 5, 7, 9]\n",
      "[0, -1, -2, -3, -4, -5, -6, -7, -8, -9]\n"
     ]
    }
   ],
   "source": [
    "# 인수가 세개일 때\n",
    "print(list(range(1,10,2)))\n",
    "print(list(range(0,-10,-1)))"
   ]
  },
  {
   "cell_type": "markdown",
   "id": "2afcc36e-5681-4155-8753-d1c3b064efa8",
   "metadata": {},
   "source": [
    "sorted() : 정렬한 결과를 리스트로 반환"
   ]
  },
  {
   "cell_type": "code",
   "execution_count": 85,
   "id": "71ae2f82-542d-4b10-8063-6396792bc96d",
   "metadata": {},
   "outputs": [
    {
     "data": {
      "text/plain": [
       "[1, 2, 3]"
      ]
     },
     "execution_count": 85,
     "metadata": {},
     "output_type": "execute_result"
    }
   ],
   "source": [
    "sorted([3,2,1])"
   ]
  },
  {
   "cell_type": "code",
   "execution_count": 87,
   "id": "b48aacdf-6306-40b3-ae66-c8d105a426aa",
   "metadata": {},
   "outputs": [
    {
     "data": {
      "text/plain": [
       "['a', 'b', 'c']"
      ]
     },
     "execution_count": 87,
     "metadata": {},
     "output_type": "execute_result"
    }
   ],
   "source": [
    "sorted(['c','a','b'])"
   ]
  },
  {
   "cell_type": "code",
   "execution_count": 89,
   "id": "337bc5f1-715a-4771-ad5a-38591352cae7",
   "metadata": {},
   "outputs": [
    {
     "data": {
      "text/plain": [
       "['e', 'o', 'r', 'z']"
      ]
     },
     "execution_count": 89,
     "metadata": {},
     "output_type": "execute_result"
    }
   ],
   "source": [
    "sorted(\"zero\")"
   ]
  },
  {
   "cell_type": "markdown",
   "id": "f6d85b1b-92e8-440c-8518-592c71de2330",
   "metadata": {},
   "source": [
    "zip() : \"동일한 개수\"로 이루어진 반복되는 데이터들을 묶어서 리턴"
   ]
  },
  {
   "cell_type": "code",
   "execution_count": 91,
   "id": "4213aa43-30b8-423f-8bcd-691a1bf5230a",
   "metadata": {},
   "outputs": [
    {
     "data": {
      "text/plain": [
       "[(1, 4), (2, 5), (3, 6)]"
      ]
     },
     "execution_count": 91,
     "metadata": {},
     "output_type": "execute_result"
    }
   ],
   "source": [
    "list(zip([1,2,3,],[4,5,6])) # 리스트로 안 묶으면 주솟값만 반환"
   ]
  },
  {
   "cell_type": "code",
   "execution_count": 93,
   "id": "19806e1a-7fd5-44ec-8377-8630525bb368",
   "metadata": {},
   "outputs": [
    {
     "data": {
      "text/plain": [
       "[(1, 6), (2, 7), (3, 8)]"
      ]
     },
     "execution_count": 93,
     "metadata": {},
     "output_type": "execute_result"
    }
   ],
   "source": [
    "list(zip([1,2,3,4,5], [6,7,8]))  # 짝 없으면 버려짐"
   ]
  },
  {
   "cell_type": "code",
   "execution_count": 94,
   "id": "255f60f5-e2e3-429f-8048-7fada4062d27",
   "metadata": {},
   "outputs": [
    {
     "data": {
      "text/plain": [
       "[('a', 'd'), ('b', 'e'), ('c', 'f')]"
      ]
     },
     "execution_count": 94,
     "metadata": {},
     "output_type": "execute_result"
    }
   ],
   "source": [
    "list(zip(\"abc\", \"def\"))"
   ]
  },
  {
   "cell_type": "code",
   "execution_count": 95,
   "id": "9857eae0-be93-4c2a-a6f6-a9f2c4e66fd4",
   "metadata": {},
   "outputs": [
    {
     "data": {
      "text/plain": [
       "[(1, 4), (2, 5), (3, 6)]"
      ]
     },
     "execution_count": 95,
     "metadata": {},
     "output_type": "execute_result"
    }
   ],
   "source": [
    "list(zip((1,2,3),(4,5,6)))"
   ]
  },
  {
   "cell_type": "code",
   "execution_count": null,
   "id": "ec66ab71-579c-4aa4-b4cf-43076af0b33f",
   "metadata": {},
   "outputs": [],
   "source": []
  }
 ],
 "metadata": {
  "kernelspec": {
   "display_name": "Python 3 (ipykernel)",
   "language": "python",
   "name": "python3"
  },
  "language_info": {
   "codemirror_mode": {
    "name": "ipython",
    "version": 3
   },
   "file_extension": ".py",
   "mimetype": "text/x-python",
   "name": "python",
   "nbconvert_exporter": "python",
   "pygments_lexer": "ipython3",
   "version": "3.13.5"
  }
 },
 "nbformat": 4,
 "nbformat_minor": 5
}
