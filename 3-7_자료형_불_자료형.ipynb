{
 "cells": [
  {
   "cell_type": "markdown",
   "id": "f077a603-d412-4442-bd3e-a9b1b06e96ea",
   "metadata": {},
   "source": [
    "## 1. 불 자료형은 어떻게 사용할까 ?"
   ]
  },
  {
   "cell_type": "code",
   "execution_count": 1,
   "id": "2a533b97-a1ab-41f0-8cda-5fb36a51a8a8",
   "metadata": {},
   "outputs": [
    {
     "name": "stdout",
     "output_type": "stream",
     "text": [
      "True False\n"
     ]
    }
   ],
   "source": [
    "# 변수에 불 자료형 지정\n",
    "a = True\n",
    "b = False\n",
    "print(a,b)"
   ]
  },
  {
   "cell_type": "code",
   "execution_count": 2,
   "id": "68c913cf-233a-42e1-993b-c22eb25bf348",
   "metadata": {},
   "outputs": [
    {
     "data": {
      "text/plain": [
       "bool"
      ]
     },
     "execution_count": 2,
     "metadata": {},
     "output_type": "execute_result"
    }
   ],
   "source": [
    "type(a)"
   ]
  },
  {
   "cell_type": "code",
   "execution_count": 3,
   "id": "a92ee831-7f7f-4cf8-b879-81ba0d4a2d84",
   "metadata": {},
   "outputs": [
    {
     "data": {
      "text/plain": [
       "True"
      ]
     },
     "execution_count": 3,
     "metadata": {},
     "output_type": "execute_result"
    }
   ],
   "source": [
    "# 불 자료형은 조건문의 리터값으로 사용합니다.\n",
    "1 == 1"
   ]
  },
  {
   "cell_type": "code",
   "execution_count": 4,
   "id": "3450c117-8f55-40c5-827c-ef73f3d4e415",
   "metadata": {},
   "outputs": [
    {
     "data": {
      "text/plain": [
       "False"
      ]
     },
     "execution_count": 4,
     "metadata": {},
     "output_type": "execute_result"
    }
   ],
   "source": [
    "1 == 2"
   ]
  },
  {
   "cell_type": "code",
   "execution_count": 5,
   "id": "2a702c7d-5aab-4cc3-acca-9cf4e4f26e35",
   "metadata": {},
   "outputs": [
    {
     "data": {
      "text/plain": [
       "False"
      ]
     },
     "execution_count": 5,
     "metadata": {},
     "output_type": "execute_result"
    }
   ],
   "source": [
    "2 > 10"
   ]
  },
  {
   "cell_type": "code",
   "execution_count": 6,
   "id": "63799450-6397-4609-8af2-992f4d8143a2",
   "metadata": {},
   "outputs": [
    {
     "data": {
      "text/plain": [
       "True"
      ]
     },
     "execution_count": 6,
     "metadata": {},
     "output_type": "execute_result"
    }
   ],
   "source": [
    "20 > 10"
   ]
  },
  {
   "cell_type": "markdown",
   "id": "c35fe51d-882d-4bbe-8736-a128984607e5",
   "metadata": {},
   "source": [
    "## 자료형의 참과 거짓이 어떻게 쓰이는지 알아보자."
   ]
  },
  {
   "cell_type": "code",
   "execution_count": 7,
   "id": "9d85a8ac-e26c-4594-8d9d-f59137693a37",
   "metadata": {},
   "outputs": [
    {
     "name": "stdout",
     "output_type": "stream",
     "text": [
      "4\n",
      "3\n",
      "2\n",
      "1\n"
     ]
    }
   ],
   "source": [
    "a= [1,2,3,4]\n",
    "while a : \n",
    "    print(a.pop())"
   ]
  },
  {
   "cell_type": "code",
   "execution_count": 8,
   "id": "04e44f73-ac6e-431c-9b2b-8549e04064c5",
   "metadata": {},
   "outputs": [
    {
     "data": {
      "text/plain": [
       "[]"
      ]
     },
     "execution_count": 8,
     "metadata": {},
     "output_type": "execute_result"
    }
   ],
   "source": [
    "a"
   ]
  },
  {
   "cell_type": "code",
   "execution_count": 9,
   "id": "12cf3eea-f212-4e30-b674-51b8590f3fbb",
   "metadata": {},
   "outputs": [
    {
     "data": {
      "text/plain": [
       "False"
      ]
     },
     "execution_count": 9,
     "metadata": {},
     "output_type": "execute_result"
    }
   ],
   "source": [
    "bool(a)"
   ]
  },
  {
   "cell_type": "code",
   "execution_count": 10,
   "id": "a556b175-e18b-4ec9-bbb6-04ab1e2faff8",
   "metadata": {},
   "outputs": [
    {
     "name": "stdout",
     "output_type": "stream",
     "text": [
      "거짓\n"
     ]
    }
   ],
   "source": [
    "if [] : \n",
    "    print('참')\n",
    "else :\n",
    "    print('거짓')"
   ]
  },
  {
   "cell_type": "code",
   "execution_count": 11,
   "id": "951dacb3-0b1f-4fad-8f6e-af0433c1826f",
   "metadata": {},
   "outputs": [
    {
     "name": "stdout",
     "output_type": "stream",
     "text": [
      "참\n"
     ]
    }
   ],
   "source": [
    "if [1,2,3] : \n",
    "    print('참')\n",
    "else :\n",
    "    print('거짓')"
   ]
  },
  {
   "cell_type": "markdown",
   "id": "e8eb3a0f-24a6-4fce-ad04-55d991f97d13",
   "metadata": {},
   "source": [
    "## 3. 불 연산 - bool()"
   ]
  },
  {
   "cell_type": "code",
   "execution_count": 2,
   "id": "d9d97681-dd8d-48c6-a36b-40be2472474f",
   "metadata": {},
   "outputs": [
    {
     "name": "stdout",
     "output_type": "stream",
     "text": [
      "False\n",
      "True\n",
      "False\n",
      "True\n",
      "False\n",
      "True\n",
      "False\n",
      "True\n",
      "True\n",
      "True\n"
     ]
    }
   ],
   "source": [
    "# bool() True인지 False인지 식별해주는 함수\n",
    "print(bool(''))                # False\n",
    "print(bool('aaa'))             # True\n",
    "print(bool([]))                # False\n",
    "print(bool([1,2]))             # True\n",
    "print(bool({}))                # False\n",
    "print(bool({'a':1, 'b':2}))    # True\n",
    "print(bool(0))                 # False\n",
    "print(bool(1))                 # True\n",
    "print(bool(-1))                # True\n",
    "print(bool(2.5))               # True"
   ]
  },
  {
   "cell_type": "code",
   "execution_count": null,
   "id": "bf36eab2-4583-4771-8e54-912e5ec4ab1a",
   "metadata": {},
   "outputs": [],
   "source": []
  }
 ],
 "metadata": {
  "kernelspec": {
   "display_name": "Python 3 (ipykernel)",
   "language": "python",
   "name": "python3"
  },
  "language_info": {
   "codemirror_mode": {
    "name": "ipython",
    "version": 3
   },
   "file_extension": ".py",
   "mimetype": "text/x-python",
   "name": "python",
   "nbconvert_exporter": "python",
   "pygments_lexer": "ipython3",
   "version": "3.13.5"
  }
 },
 "nbformat": 4,
 "nbformat_minor": 5
}
