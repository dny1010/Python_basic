{
 "cells": [
  {
   "cell_type": "code",
   "execution_count": 3,
   "id": "958809b6-714a-48ec-a99a-1d476ca68d28",
   "metadata": {},
   "outputs": [],
   "source": [
    "# 실행문을 정리해둔 것 -> 함수(기능) 들을 모아둔 것 -> 클래스(첫자는 대문자)(객체) 들을 모아둔 것 -> 모듈 들을 모아둔 것 -> 패키지 들을 모아둔 것 -> 라이브러리\n",
    "#변하지 않는 변수 => 상수"
   ]
  },
  {
   "cell_type": "markdown",
   "id": "a7ffe3ef-070f-450b-af61-45131a3598c3",
   "metadata": {},
   "source": [
    "### 날짜 표준 라이브러리"
   ]
  },
  {
   "cell_type": "code",
   "execution_count": 6,
   "id": "d42613a2-ca38-4c18-8f89-5bc6bbc4eafc",
   "metadata": {},
   "outputs": [
    {
     "ename": "NameError",
     "evalue": "name 'datetime' is not defined",
     "output_type": "error",
     "traceback": [
      "\u001b[1;31m---------------------------------------------------------------------------\u001b[0m",
      "\u001b[1;31mNameError\u001b[0m                                 Traceback (most recent call last)",
      "Cell \u001b[1;32mIn[6], line 1\u001b[0m\n\u001b[1;32m----> 1\u001b[0m day1 \u001b[38;5;241m=\u001b[39m datetime\u001b[38;5;241m.\u001b[39mdate(\u001b[38;5;241m2025\u001b[39m,\u001b[38;5;241m9\u001b[39m,\u001b[38;5;241m1\u001b[39m)\n",
      "\u001b[1;31mNameError\u001b[0m: name 'datetime' is not defined"
     ]
    }
   ],
   "source": [
    "day1 = datetime.date(2025,9,1) #import를 안 쓰면 에러남"
   ]
  },
  {
   "cell_type": "code",
   "execution_count": 8,
   "id": "f2b7b271-0ac8-4a70-bf31-89291fca5a40",
   "metadata": {},
   "outputs": [],
   "source": [
    "import datetime\n",
    "\n",
    "day1 = datetime.date(2025,9,1)\n",
    "day2 = datetime.date(2026,4,5)"
   ]
  },
  {
   "cell_type": "code",
   "execution_count": 9,
   "id": "287ab413-7371-408a-93d9-6a28570a94ad",
   "metadata": {},
   "outputs": [
    {
     "name": "stdout",
     "output_type": "stream",
     "text": [
      "216 days, 0:00:00\n"
     ]
    }
   ],
   "source": [
    "diff = day2- day1\n",
    "print(diff)"
   ]
  },
  {
   "cell_type": "code",
   "execution_count": 10,
   "id": "945a4921-9525-42c1-856e-674c53202ab2",
   "metadata": {},
   "outputs": [
    {
     "data": {
      "text/plain": [
       "216"
      ]
     },
     "execution_count": 10,
     "metadata": {},
     "output_type": "execute_result"
    }
   ],
   "source": [
    "diff.days"
   ]
  },
  {
   "cell_type": "code",
   "execution_count": 12,
   "id": "000aeb69-5b4d-4079-a41e-3e4796157de3",
   "metadata": {},
   "outputs": [
    {
     "data": {
      "text/plain": [
       "0"
      ]
     },
     "execution_count": 12,
     "metadata": {},
     "output_type": "execute_result"
    }
   ],
   "source": [
    "day1.weekday() # 요일을 알려주는 함수, 0이 월요일 !"
   ]
  },
  {
   "cell_type": "code",
   "execution_count": 13,
   "id": "4aeed15f-6673-4658-99a4-a172cd11aaf3",
   "metadata": {},
   "outputs": [
    {
     "data": {
      "text/plain": [
       "6"
      ]
     },
     "execution_count": 13,
     "metadata": {},
     "output_type": "execute_result"
    }
   ],
   "source": [
    "day2.weekday()"
   ]
  },
  {
   "cell_type": "code",
   "execution_count": 14,
   "id": "179652f0-1bce-47e4-8f45-37c643d18008",
   "metadata": {},
   "outputs": [
    {
     "data": {
      "text/plain": [
       "1"
      ]
     },
     "execution_count": 14,
     "metadata": {},
     "output_type": "execute_result"
    }
   ],
   "source": [
    "day1.isoweekday() # 1이 월요일, 7이 일요일"
   ]
  },
  {
   "cell_type": "code",
   "execution_count": 15,
   "id": "ae5bf870-f1a4-435e-a4ce-757830f9368e",
   "metadata": {},
   "outputs": [
    {
     "data": {
      "text/plain": [
       "datetime.date(2025, 9, 1)"
      ]
     },
     "execution_count": 15,
     "metadata": {},
     "output_type": "execute_result"
    }
   ],
   "source": [
    "today = datetime.date.today()\n",
    "today"
   ]
  },
  {
   "cell_type": "code",
   "execution_count": 18,
   "id": "4690f56a-a777-4ab1-a003-981440b91c6b",
   "metadata": {},
   "outputs": [
    {
     "data": {
      "text/plain": [
       "'Mon Sep  1 00:00:00 2025'"
      ]
     },
     "execution_count": 18,
     "metadata": {},
     "output_type": "execute_result"
    }
   ],
   "source": [
    "today = datetime.date.today().ctime() # 시간 X\n",
    "today"
   ]
  },
  {
   "cell_type": "code",
   "execution_count": 19,
   "id": "ef44c2b4-5017-4ec3-a889-252807118475",
   "metadata": {},
   "outputs": [
    {
     "data": {
      "text/plain": [
       "'Mon Sep  1 10:05:06 2025'"
      ]
     },
     "execution_count": 19,
     "metadata": {},
     "output_type": "execute_result"
    }
   ],
   "source": [
    "today = datetime.datetime.today().ctime() # 시간 O\n",
    "today"
   ]
  },
  {
   "cell_type": "code",
   "execution_count": 22,
   "id": "631e5b8a-0804-42f6-978b-7a107f045660",
   "metadata": {},
   "outputs": [
    {
     "data": {
      "text/plain": [
       "1756688796.4517927"
      ]
     },
     "execution_count": 22,
     "metadata": {},
     "output_type": "execute_result"
    }
   ],
   "source": [
    "# time 객체\n",
    "import time\n",
    "time.time() # 1970년 1월 1일 0시 0분 0초부터 초단위로 리턴"
   ]
  },
  {
   "cell_type": "code",
   "execution_count": 23,
   "id": "4e7a5c46-5d9d-4a17-8839-a3aebfd62e4b",
   "metadata": {},
   "outputs": [
    {
     "data": {
      "text/plain": [
       "time.struct_time(tm_year=2025, tm_mon=9, tm_mday=1, tm_hour=10, tm_min=6, tm_sec=50, tm_wday=0, tm_yday=244, tm_isdst=0)"
      ]
     },
     "execution_count": 23,
     "metadata": {},
     "output_type": "execute_result"
    }
   ],
   "source": [
    "time.localtime(time.time())"
   ]
  },
  {
   "cell_type": "code",
   "execution_count": 24,
   "id": "1c0c79e3-fc42-4289-9b19-4509e957f566",
   "metadata": {},
   "outputs": [
    {
     "data": {
      "text/plain": [
       "'Mon Sep  1 10:07:44 2025'"
      ]
     },
     "execution_count": 24,
     "metadata": {},
     "output_type": "execute_result"
    }
   ],
   "source": [
    "time.asctime(time.localtime(time.time()))"
   ]
  },
  {
   "cell_type": "code",
   "execution_count": 25,
   "id": "a4af492e-4234-4bdf-9e61-306e62d2e74b",
   "metadata": {},
   "outputs": [
    {
     "data": {
      "text/plain": [
       "'Mon Sep  1 10:08:00 2025'"
      ]
     },
     "execution_count": 25,
     "metadata": {},
     "output_type": "execute_result"
    }
   ],
   "source": [
    "time.ctime()"
   ]
  },
  {
   "cell_type": "code",
   "execution_count": 27,
   "id": "bbb8ffe5-bc54-45c2-953f-69984ba5274e",
   "metadata": {},
   "outputs": [
    {
     "data": {
      "text/plain": [
       "'09/01/25'"
      ]
     },
     "execution_count": 27,
     "metadata": {},
     "output_type": "execute_result"
    }
   ],
   "source": [
    "time.strftime('%x',time.localtime(time.time()))"
   ]
  },
  {
   "cell_type": "code",
   "execution_count": 29,
   "id": "751016ed-d09d-4c4d-a680-cd8d75d6a754",
   "metadata": {},
   "outputs": [
    {
     "data": {
      "text/plain": [
       "'Mon Sep  1 10:10:45 2025'"
      ]
     },
     "execution_count": 29,
     "metadata": {},
     "output_type": "execute_result"
    }
   ],
   "source": [
    "time.strftime('%c', time.localtime(time.time()))"
   ]
  },
  {
   "cell_type": "code",
   "execution_count": 31,
   "id": "b2b2bdb7-aa4b-434e-bbaf-e14d9e8cbf9b",
   "metadata": {},
   "outputs": [
    {
     "name": "stdout",
     "output_type": "stream",
     "text": [
      "0\n",
      "1\n",
      "2\n",
      "3\n",
      "4\n",
      "5\n",
      "6\n",
      "7\n",
      "8\n",
      "9\n"
     ]
    }
   ],
   "source": [
    "import time\n",
    "for i in range(10):\n",
    "    print(i)\n",
    "    time.sleep(1) # 1초에 하나씩 출력함"
   ]
  },
  {
   "cell_type": "markdown",
   "id": "dcc6e3e4-5040-4438-b51e-ebcb15b52f39",
   "metadata": {},
   "source": [
    "### random 표준 라이브러리"
   ]
  },
  {
   "cell_type": "code",
   "execution_count": 32,
   "id": "8133ca6b-d669-4d50-b049-3e94c726b439",
   "metadata": {},
   "outputs": [],
   "source": [
    "# 0~1 사이에 난수(임의의 수)를 만들어주는 것 => random"
   ]
  },
  {
   "cell_type": "code",
   "execution_count": 35,
   "id": "b68593ae-568b-4f6d-a5ca-64f03e3d8aae",
   "metadata": {},
   "outputs": [
    {
     "data": {
      "text/plain": [
       "0.7083745505407029"
      ]
     },
     "execution_count": 35,
     "metadata": {},
     "output_type": "execute_result"
    }
   ],
   "source": [
    "import random\n",
    "random.random() # 0~1사이 / 1을 넘지 X"
   ]
  },
  {
   "cell_type": "code",
   "execution_count": 37,
   "id": "264be25f-a81f-4ff5-86c6-57544b42c522",
   "metadata": {},
   "outputs": [
    {
     "data": {
      "text/plain": [
       "5"
      ]
     },
     "execution_count": 37,
     "metadata": {},
     "output_type": "execute_result"
    }
   ],
   "source": [
    "random.randint(1,10) # 1~10까지 (10포함)"
   ]
  },
  {
   "cell_type": "code",
   "execution_count": 39,
   "id": "71cdcf02-18c0-429a-b700-dcfd27bf485a",
   "metadata": {},
   "outputs": [
    {
     "data": {
      "text/plain": [
       "53"
      ]
     },
     "execution_count": 39,
     "metadata": {},
     "output_type": "execute_result"
    }
   ],
   "source": [
    "random.randint(1,55)"
   ]
  },
  {
   "cell_type": "code",
   "execution_count": 44,
   "id": "86d275f2-d109-4e57-afb0-97adf052a299",
   "metadata": {},
   "outputs": [
    {
     "name": "stdout",
     "output_type": "stream",
     "text": [
      "2\n",
      "3\n",
      "4\n",
      "1\n",
      "5\n"
     ]
    }
   ],
   "source": [
    "# 리스트에서 무작위로 하나를 선택하여 리턴하는 함수\n",
    "import random\n",
    "def random_pop(data):\n",
    "    num = random.randint(0,len(data)-1)\n",
    "    return data.pop(num)\n",
    "\n",
    "data = [1,2,3,4,5]\n",
    "while data:\n",
    "    print(random_pop(data))"
   ]
  },
  {
   "cell_type": "code",
   "execution_count": 47,
   "id": "5f306b27-5546-44d7-ab2c-78cad6e5c0bc",
   "metadata": {},
   "outputs": [
    {
     "name": "stdout",
     "output_type": "stream",
     "text": [
      "2\n",
      "1\n",
      "3\n",
      "4\n",
      "5\n"
     ]
    }
   ],
   "source": [
    "def random_pop(data):\n",
    "    num = random.choice(data) # 뽑히면 나머지 중에 랜덤이여서 중복 X\n",
    "    data.remove(num)\n",
    "    return num\n",
    "\n",
    "data = [1,2,3,4,5]\n",
    "while data:\n",
    "    print(random_pop(data))"
   ]
  },
  {
   "cell_type": "code",
   "execution_count": 51,
   "id": "98c6f4ca-d25a-4689-b124-78ce2713c935",
   "metadata": {},
   "outputs": [
    {
     "data": {
      "text/plain": [
       "[5, 4, 1, 3, 2]"
      ]
     },
     "execution_count": 51,
     "metadata": {},
     "output_type": "execute_result"
    }
   ],
   "source": [
    "data = [1,2,3,4,5]\n",
    "random.sample(data, len(data))"
   ]
  },
  {
   "cell_type": "markdown",
   "id": "112cd644-805e-41ff-a295-287abb25c07e",
   "metadata": {},
   "source": [
    "### pickle 표준 라이브러리"
   ]
  },
  {
   "cell_type": "code",
   "execution_count": 53,
   "id": "dffb2348-a3b4-4d3f-8914-24478d82f65a",
   "metadata": {},
   "outputs": [],
   "source": [
    "import pickle\n",
    "\n",
    "f = open('test.txt', 'wb') # write모드 이면서 바이너리모드\n",
    "data = {1:'python',2:'you need'}\n",
    "pickle.dump(data,f)\n",
    "f.close()"
   ]
  },
  {
   "cell_type": "code",
   "execution_count": 55,
   "id": "b61edcd9-be58-4ff6-a671-602b6b403658",
   "metadata": {},
   "outputs": [
    {
     "name": "stdout",
     "output_type": "stream",
     "text": [
      "{1: 'python', 2: 'you need'}\n"
     ]
    }
   ],
   "source": [
    "f = open('test.txt', 'rb') # 바이너리 파일이여서 b를 붙여줘야함 / 2진 데이터라서 그냥 열면 깨져서 나옴 !\n",
    "content = pickle.load (f)\n",
    "print(content)\n",
    "f.close() \n",
    "# pickle에 dump로 집어넣고 load로 읽음"
   ]
  },
  {
   "cell_type": "code",
   "execution_count": 56,
   "id": "74133918-af3f-48b4-b31b-84c40ecff2c8",
   "metadata": {},
   "outputs": [],
   "source": [
    "# json은 dic처럼 key와 value값으로 되어있음"
   ]
  },
  {
   "cell_type": "markdown",
   "id": "6f19e548-00ad-43ca-889c-1220812145d1",
   "metadata": {},
   "source": [
    "### 정규표현식"
   ]
  },
  {
   "cell_type": "code",
   "execution_count": 63,
   "id": "b3130677-2ae0-41b8-b527-a29aa857a268",
   "metadata": {},
   "outputs": [
    {
     "name": "stdout",
     "output_type": "stream",
     "text": [
      "123\n"
     ]
    }
   ],
   "source": [
    "import re\n",
    "\n",
    "pattern = re.compile(r'\\d+') # 숫자찾는 패턴 , 앞에 꺼만 출력\n",
    "match = pattern.match('123abc456def')\n",
    "\n",
    "if match:\n",
    "    print(match.group())"
   ]
  },
  {
   "cell_type": "code",
   "execution_count": 64,
   "id": "3be9d580-dac0-4180-bd2c-0db3f81a2a4b",
   "metadata": {},
   "outputs": [
    {
     "name": "stdout",
     "output_type": "stream",
     "text": [
      "abc\n"
     ]
    }
   ],
   "source": [
    "import re\n",
    "\n",
    "pattern = re.compile(r'\\D+') # 숫자가 아닌 것을 찾는 패턴, 앞에 꺼만 출력\n",
    "match = pattern.search('123abc456def')\n",
    "\n",
    "if match:\n",
    "    print(match.group())"
   ]
  },
  {
   "cell_type": "code",
   "execution_count": 65,
   "id": "3ad68dc7-b192-4dde-9a85-a43ef31f21f3",
   "metadata": {},
   "outputs": [
    {
     "name": "stdout",
     "output_type": "stream",
     "text": [
      "['abc', 'def']\n"
     ]
    }
   ],
   "source": [
    "pattern = re.compile(r'\\D+')\n",
    "matches = pattern.findall('123abc456def') # 리스트로 반환\n",
    "print(matches)"
   ]
  },
  {
   "cell_type": "code",
   "execution_count": 68,
   "id": "a3249e18-4924-4d64-b7b9-e8038bef53ea",
   "metadata": {},
   "outputs": [
    {
     "name": "stdout",
     "output_type": "stream",
     "text": [
      "NUMabcNUMdef\n"
     ]
    }
   ],
   "source": [
    "pattern = re.compile(r'\\d+')\n",
    "result = pattern.sub('NUM','123abc456def') # 숫자 찾아서 문자로 대체\n",
    "print(result)"
   ]
  },
  {
   "cell_type": "code",
   "execution_count": null,
   "id": "b9c84029-5b8d-41ca-83cf-710dbfdca6ab",
   "metadata": {},
   "outputs": [],
   "source": []
  }
 ],
 "metadata": {
  "kernelspec": {
   "display_name": "Python 3 (ipykernel)",
   "language": "python",
   "name": "python3"
  },
  "language_info": {
   "codemirror_mode": {
    "name": "ipython",
    "version": 3
   },
   "file_extension": ".py",
   "mimetype": "text/x-python",
   "name": "python",
   "nbconvert_exporter": "python",
   "pygments_lexer": "ipython3",
   "version": "3.13.5"
  }
 },
 "nbformat": 4,
 "nbformat_minor": 5
}
