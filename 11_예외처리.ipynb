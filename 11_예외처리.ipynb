{
 "cells": [
  {
   "cell_type": "markdown",
   "id": "39bd38ec-0b40-46d0-b3f9-ee877cae5ae1",
   "metadata": {},
   "source": [
    "#### 자주 발생하는 예외 예"
   ]
  },
  {
   "cell_type": "code",
   "execution_count": 1,
   "id": "1c7cefb7-fba9-44aa-8918-f4025fc9b6a8",
   "metadata": {},
   "outputs": [
    {
     "ename": "FileNotFoundError",
     "evalue": "[Errno 2] No such file or directory: 'foo2.txt'",
     "output_type": "error",
     "traceback": [
      "\u001b[1;31m---------------------------------------------------------------------------\u001b[0m",
      "\u001b[1;31mFileNotFoundError\u001b[0m                         Traceback (most recent call last)",
      "Cell \u001b[1;32mIn[1], line 1\u001b[0m\n\u001b[1;32m----> 1\u001b[0m f \u001b[38;5;241m=\u001b[39m \u001b[38;5;28mopen\u001b[39m(\u001b[38;5;124m\"\u001b[39m\u001b[38;5;124mfoo2.txt\u001b[39m\u001b[38;5;124m\"\u001b[39m,\u001b[38;5;124m\"\u001b[39m\u001b[38;5;124mr\u001b[39m\u001b[38;5;124m\"\u001b[39m)\n",
      "File \u001b[1;32m~\\anaconda3\\Lib\\site-packages\\IPython\\core\\interactiveshell.py:324\u001b[0m, in \u001b[0;36m_modified_open\u001b[1;34m(file, *args, **kwargs)\u001b[0m\n\u001b[0;32m    317\u001b[0m \u001b[38;5;28;01mif\u001b[39;00m file \u001b[38;5;129;01min\u001b[39;00m {\u001b[38;5;241m0\u001b[39m, \u001b[38;5;241m1\u001b[39m, \u001b[38;5;241m2\u001b[39m}:\n\u001b[0;32m    318\u001b[0m     \u001b[38;5;28;01mraise\u001b[39;00m \u001b[38;5;167;01mValueError\u001b[39;00m(\n\u001b[0;32m    319\u001b[0m         \u001b[38;5;124mf\u001b[39m\u001b[38;5;124m\"\u001b[39m\u001b[38;5;124mIPython won\u001b[39m\u001b[38;5;124m'\u001b[39m\u001b[38;5;124mt let you open fd=\u001b[39m\u001b[38;5;132;01m{\u001b[39;00mfile\u001b[38;5;132;01m}\u001b[39;00m\u001b[38;5;124m by default \u001b[39m\u001b[38;5;124m\"\u001b[39m\n\u001b[0;32m    320\u001b[0m         \u001b[38;5;124m\"\u001b[39m\u001b[38;5;124mas it is likely to crash IPython. If you know what you are doing, \u001b[39m\u001b[38;5;124m\"\u001b[39m\n\u001b[0;32m    321\u001b[0m         \u001b[38;5;124m\"\u001b[39m\u001b[38;5;124myou can use builtins\u001b[39m\u001b[38;5;124m'\u001b[39m\u001b[38;5;124m open.\u001b[39m\u001b[38;5;124m\"\u001b[39m\n\u001b[0;32m    322\u001b[0m     )\n\u001b[1;32m--> 324\u001b[0m \u001b[38;5;28;01mreturn\u001b[39;00m io_open(file, \u001b[38;5;241m*\u001b[39margs, \u001b[38;5;241m*\u001b[39m\u001b[38;5;241m*\u001b[39mkwargs)\n",
      "\u001b[1;31mFileNotFoundError\u001b[0m: [Errno 2] No such file or directory: 'foo2.txt'"
     ]
    }
   ],
   "source": [
    "f = open(\"foo2.txt\",\"r\") # 읽기모드로 하면 파일생성 X"
   ]
  },
  {
   "cell_type": "code",
   "execution_count": 2,
   "id": "1562562b-5b8c-4c2a-83b4-e5e089a434a0",
   "metadata": {},
   "outputs": [
    {
     "ename": "ZeroDivisionError",
     "evalue": "division by zero",
     "output_type": "error",
     "traceback": [
      "\u001b[1;31m---------------------------------------------------------------------------\u001b[0m",
      "\u001b[1;31mZeroDivisionError\u001b[0m                         Traceback (most recent call last)",
      "Cell \u001b[1;32mIn[2], line 1\u001b[0m\n\u001b[1;32m----> 1\u001b[0m \u001b[38;5;241m4\u001b[39m \u001b[38;5;241m/\u001b[39m \u001b[38;5;241m0\u001b[39m\n",
      "\u001b[1;31mZeroDivisionError\u001b[0m: division by zero"
     ]
    }
   ],
   "source": [
    "4 / 0"
   ]
  },
  {
   "cell_type": "code",
   "execution_count": 3,
   "id": "ffcb4c8c-fc2b-4889-b5c1-384837b864d9",
   "metadata": {},
   "outputs": [
    {
     "ename": "IndexError",
     "evalue": "list index out of range",
     "output_type": "error",
     "traceback": [
      "\u001b[1;31m---------------------------------------------------------------------------\u001b[0m",
      "\u001b[1;31mIndexError\u001b[0m                                Traceback (most recent call last)",
      "Cell \u001b[1;32mIn[3], line 2\u001b[0m\n\u001b[0;32m      1\u001b[0m a \u001b[38;5;241m=\u001b[39m [\u001b[38;5;241m1\u001b[39m,\u001b[38;5;241m2\u001b[39m,\u001b[38;5;241m3\u001b[39m]\n\u001b[1;32m----> 2\u001b[0m a[\u001b[38;5;241m3\u001b[39m]\n",
      "\u001b[1;31mIndexError\u001b[0m: list index out of range"
     ]
    }
   ],
   "source": [
    "a = [1,2,3]\n",
    "a[3]"
   ]
  },
  {
   "cell_type": "markdown",
   "id": "c640bc0b-3781-4fb9-8a6e-803a5c0ca4a1",
   "metadata": {},
   "source": [
    "### 1. 예외 처리 기법"
   ]
  },
  {
   "cell_type": "code",
   "execution_count": 5,
   "id": "8c03beb3-0ae8-458a-b7d7-06c033a86f2a",
   "metadata": {},
   "outputs": [
    {
     "name": "stdout",
     "output_type": "stream",
     "text": [
      "division by zero\n"
     ]
    }
   ],
   "source": [
    "try :\n",
    "    4/0\n",
    "except ZeroDivisionError as e:\n",
    "    print(e) # 이렇게 처리하면 다음 명령어 실행가능"
   ]
  },
  {
   "cell_type": "code",
   "execution_count": 8,
   "id": "c9830231-5395-4098-af2e-702c4f342611",
   "metadata": {},
   "outputs": [
    {
     "name": "stdout",
     "output_type": "stream",
     "text": [
      "2.0\n"
     ]
    }
   ],
   "source": [
    "try :\n",
    "    div = 4/2\n",
    "except ZeroDivisionError as e:\n",
    "    print(e)\n",
    "    \n",
    "print(div)"
   ]
  },
  {
   "cell_type": "code",
   "execution_count": 9,
   "id": "ca4d9ad8-1b13-46f0-b94c-c802dd77dc21",
   "metadata": {},
   "outputs": [],
   "source": [
    "# try - finally\n",
    "try:\n",
    "    f = open('foo.txt','w')\n",
    "finally:\n",
    "    f.close() # 오류 상관없이 무조건 실행"
   ]
  },
  {
   "cell_type": "code",
   "execution_count": 13,
   "id": "5d6666e0-3785-43db-b219-b0467095213e",
   "metadata": {},
   "outputs": [
    {
     "name": "stdout",
     "output_type": "stream",
     "text": [
      "인덱싱할 수 없습니다.\n",
      "[1, 2]\n"
     ]
    }
   ],
   "source": [
    "try:\n",
    "    a = [1,2]\n",
    "    print(a[3]) # IndexError\n",
    "    4/0 # ZeroDivisionError\n",
    "except ZeroDivisionError:\n",
    "    print('0으로 나눌 수 없습니다.')\n",
    "except IndexError:\n",
    "    print('인덱싱할 수 없습니다.')\n",
    "finally: # 뭔가 열고닫고 연결을 끊어야하는 경우에는 finally에 입력해야함 !\n",
    "    print(a) # 위에서부터 차례대로 실행 / IndexError 발생하자마자 except IndexError로 가고 위로 X, except IndexError 아래부터 이어서 차례대로 실행"
   ]
  },
  {
   "cell_type": "code",
   "execution_count": 14,
   "id": "7c2c1c2e-f4c0-44a9-b4d1-da4d7c39e774",
   "metadata": {},
   "outputs": [
    {
     "name": "stdout",
     "output_type": "stream",
     "text": [
      "list index out of range\n"
     ]
    }
   ],
   "source": [
    "try:\n",
    "    a = [1,2]\n",
    "    print(a[3])\n",
    "    4/0\n",
    "except ZeroDivisionError as e:\n",
    "    print(e)\n",
    "except IndexError as e:\n",
    "    print(e)"
   ]
  },
  {
   "cell_type": "code",
   "execution_count": 32,
   "id": "a4fb8f31-3e9b-4e2d-81f5-52cc351e950f",
   "metadata": {},
   "outputs": [
    {
     "name": "stdout",
     "output_type": "stream",
     "text": [
      "division by zero\n"
     ]
    }
   ],
   "source": [
    "try:\n",
    "    a = [1,2]\n",
    "    4/0\n",
    "    print(a[3])\n",
    "except (ZeroDivisionError, IndexError) as e:\n",
    "    print(e)"
   ]
  },
  {
   "cell_type": "code",
   "execution_count": 35,
   "id": "5afaf795-9410-4218-91c0-e6c1cf4189d3",
   "metadata": {},
   "outputs": [
    {
     "name": "stdout",
     "output_type": "stream",
     "text": [
      "list index out of range\n"
     ]
    }
   ],
   "source": [
    "# 어떤 Error인지 모를경우 Exception으로 받는다 !\n",
    "try:\n",
    "    a = [1,2]\n",
    "    print(a[3])\n",
    "    4/0    \n",
    "    \n",
    "except Exception as e:\n",
    "    print(e)"
   ]
  },
  {
   "cell_type": "code",
   "execution_count": 25,
   "id": "864286f7-1979-4ad3-9024-3b2b203bb27f",
   "metadata": {},
   "outputs": [
    {
     "name": "stdin",
     "output_type": "stream",
     "text": [
      "나이를 입력하세요: 22\n"
     ]
    },
    {
     "name": "stdout",
     "output_type": "stream",
     "text": [
      "성년\n"
     ]
    }
   ],
   "source": [
    "try:\n",
    "    age = int(input('나이를 입력하세요:')) # input 타입은 string\n",
    "except:\n",
    "    print('입력이 정확하지 않습니다.')\n",
    "else:\n",
    "    if age <= 18:\n",
    "        print('미성년')\n",
    "    else:\n",
    "        print('성년')"
   ]
  },
  {
   "cell_type": "markdown",
   "id": "0bbb24c8-0403-48b3-b716-3ad24b97a7ce",
   "metadata": {},
   "source": [
    "### 2. 예외 회피하기"
   ]
  },
  {
   "cell_type": "code",
   "execution_count": 27,
   "id": "c9277c24-1fe9-4869-a25d-31bc6ec7c099",
   "metadata": {},
   "outputs": [],
   "source": [
    "try:\n",
    "    4/0\n",
    "except ZeroDivisionError: # 이름을 모르면 에러 이름 안 쓰고 except:exception (대부분의 에러들은 다 exception안에 있음) 하고 넘어가면 됨\n",
    "    pass"
   ]
  },
  {
   "cell_type": "markdown",
   "id": "797e568d-ad0d-44c0-92db-0f151396bd24",
   "metadata": {},
   "source": [
    "### 3. 예외 발생"
   ]
  },
  {
   "cell_type": "code",
   "execution_count": 29,
   "id": "0461611e-e0e5-4d7c-8985-6032172ab39d",
   "metadata": {},
   "outputs": [],
   "source": [
    "# raise 명령어\n",
    "class Bird:\n",
    "    def fly(self): # 매개변수 자리에 self는 무조건 !\n",
    "        raise NotImplementedError # 구현하지 않았다는 에러"
   ]
  },
  {
   "cell_type": "code",
   "execution_count": 30,
   "id": "006e1e50-03fe-4fca-b4f4-9fbd1f06a38e",
   "metadata": {},
   "outputs": [
    {
     "ename": "NotImplementedError",
     "evalue": "",
     "output_type": "error",
     "traceback": [
      "\u001b[1;31m---------------------------------------------------------------------------\u001b[0m",
      "\u001b[1;31mNotImplementedError\u001b[0m                       Traceback (most recent call last)",
      "Cell \u001b[1;32mIn[30], line 5\u001b[0m\n\u001b[0;32m      2\u001b[0m     \u001b[38;5;28;01mpass\u001b[39;00m\n\u001b[0;32m      4\u001b[0m eagle \u001b[38;5;241m=\u001b[39m Eagle() \u001b[38;5;66;03m# 인스턴스\u001b[39;00m\n\u001b[1;32m----> 5\u001b[0m eagle\u001b[38;5;241m.\u001b[39mfly()\n",
      "Cell \u001b[1;32mIn[29], line 4\u001b[0m, in \u001b[0;36mBird.fly\u001b[1;34m(self)\u001b[0m\n\u001b[0;32m      3\u001b[0m \u001b[38;5;28;01mdef\u001b[39;00m\u001b[38;5;250m \u001b[39m\u001b[38;5;21mfly\u001b[39m(\u001b[38;5;28mself\u001b[39m): \u001b[38;5;66;03m# 매개변수 자리에 self는 무조건 !\u001b[39;00m\n\u001b[1;32m----> 4\u001b[0m     \u001b[38;5;28;01mraise\u001b[39;00m \u001b[38;5;167;01mNotImplementedError\u001b[39;00m\n",
      "\u001b[1;31mNotImplementedError\u001b[0m: "
     ]
    }
   ],
   "source": [
    "class Eagle(Bird):\n",
    "    pass\n",
    "\n",
    "eagle = Eagle() # 인스턴스\n",
    "eagle.fly()"
   ]
  },
  {
   "cell_type": "code",
   "execution_count": 31,
   "id": "3f42623c-9b19-43c6-9115-6c907912af5d",
   "metadata": {},
   "outputs": [
    {
     "name": "stdout",
     "output_type": "stream",
     "text": [
      "very fast\n"
     ]
    }
   ],
   "source": [
    "class Eagle(Bird):\n",
    "    def fly(self): # 메서드 오버라이딩\n",
    "        print(\"very fast\")\n",
    "\n",
    "eagle = Eagle() # 인스턴스 생성\n",
    "eagle.fly()"
   ]
  },
  {
   "cell_type": "markdown",
   "id": "93d1928d-9664-4cf4-9396-b5fd73bc6b8c",
   "metadata": {},
   "source": [
    "### 4. 예외 만들기"
   ]
  },
  {
   "cell_type": "code",
   "execution_count": 36,
   "id": "9c4593e5-a89d-441d-8511-a59508703c49",
   "metadata": {},
   "outputs": [],
   "source": [
    "# 예외 클래스 생성\n",
    "class MyError(Exception):\n",
    "    pass"
   ]
  },
  {
   "cell_type": "code",
   "execution_count": 37,
   "id": "039ee219-9f79-4e72-8242-f29c48f7c193",
   "metadata": {},
   "outputs": [],
   "source": [
    "def say_nick(nick):\n",
    "    if nick =='바보':\n",
    "        raise MyError() # 강제로 예외 발생\n",
    "    print(nick)"
   ]
  },
  {
   "cell_type": "code",
   "execution_count": 38,
   "id": "6560a027-9d6c-4b69-95d9-6253d1d18a45",
   "metadata": {},
   "outputs": [
    {
     "name": "stdout",
     "output_type": "stream",
     "text": [
      "천사\n"
     ]
    }
   ],
   "source": [
    "say_nick('천사')"
   ]
  },
  {
   "cell_type": "code",
   "execution_count": 39,
   "id": "84d74be9-012a-4148-ba35-948394401203",
   "metadata": {},
   "outputs": [
    {
     "ename": "MyError",
     "evalue": "",
     "output_type": "error",
     "traceback": [
      "\u001b[1;31m---------------------------------------------------------------------------\u001b[0m",
      "\u001b[1;31mMyError\u001b[0m                                   Traceback (most recent call last)",
      "Cell \u001b[1;32mIn[39], line 1\u001b[0m\n\u001b[1;32m----> 1\u001b[0m say_nick(\u001b[38;5;124m'\u001b[39m\u001b[38;5;124m바보\u001b[39m\u001b[38;5;124m'\u001b[39m)\n",
      "Cell \u001b[1;32mIn[37], line 3\u001b[0m, in \u001b[0;36msay_nick\u001b[1;34m(nick)\u001b[0m\n\u001b[0;32m      1\u001b[0m \u001b[38;5;28;01mdef\u001b[39;00m\u001b[38;5;250m \u001b[39m\u001b[38;5;21msay_nick\u001b[39m(nick):\n\u001b[0;32m      2\u001b[0m     \u001b[38;5;28;01mif\u001b[39;00m nick \u001b[38;5;241m==\u001b[39m\u001b[38;5;124m'\u001b[39m\u001b[38;5;124m바보\u001b[39m\u001b[38;5;124m'\u001b[39m:\n\u001b[1;32m----> 3\u001b[0m         \u001b[38;5;28;01mraise\u001b[39;00m MyError() \u001b[38;5;66;03m# 강제로 예외 발생\u001b[39;00m\n\u001b[0;32m      4\u001b[0m     \u001b[38;5;28mprint\u001b[39m(nick)\n",
      "\u001b[1;31mMyError\u001b[0m: "
     ]
    }
   ],
   "source": [
    "say_nick('바보')"
   ]
  },
  {
   "cell_type": "code",
   "execution_count": 40,
   "id": "897fd5bc-425d-44f0-9afb-20e5b21e2b52",
   "metadata": {},
   "outputs": [
    {
     "name": "stdout",
     "output_type": "stream",
     "text": [
      "천사\n",
      "허용되지 않는 별명입니다.\n"
     ]
    }
   ],
   "source": [
    "# MyError 예외처리\n",
    "try:\n",
    "    say_nick('천사')\n",
    "    say_nick('바보')\n",
    "except MyError:\n",
    "    print(\"허용되지 않는 별명입니다.\")"
   ]
  },
  {
   "cell_type": "code",
   "execution_count": 41,
   "id": "d0d1b0f3-a5bc-4e4f-986b-94619ba8f6b1",
   "metadata": {
    "editable": true,
    "slideshow": {
     "slide_type": ""
    },
    "tags": []
   },
   "outputs": [
    {
     "name": "stdout",
     "output_type": "stream",
     "text": [
      "천사\n",
      "\n"
     ]
    }
   ],
   "source": [
    "# 오류 메시지 출력\n",
    "try:\n",
    "    say_nick('천사')\n",
    "    say_nick('바보')\n",
    "except Exception as e:\n",
    "    print(e) # 오류 메세지 안보임"
   ]
  },
  {
   "cell_type": "code",
   "execution_count": 42,
   "id": "890ef12c-fe5a-4aa7-889c-322ec008363c",
   "metadata": {},
   "outputs": [],
   "source": [
    "# 오류 메세지 출력되게 만들기 => __str__ (__ = 매직 매서드)\n",
    "class MyError(Exception):\n",
    "    def __str__(self):\n",
    "        return \"허용되지 않는 별명입니다.\""
   ]
  },
  {
   "cell_type": "code",
   "execution_count": 44,
   "id": "3de4779f-2952-412e-82ac-10db1e844630",
   "metadata": {},
   "outputs": [
    {
     "name": "stdout",
     "output_type": "stream",
     "text": [
      "천사\n",
      "허용되지 않는 별명입니다.\n"
     ]
    }
   ],
   "source": [
    "try:\n",
    "    say_nick('천사')\n",
    "    say_nick('바보')\n",
    "except Exception as e:\n",
    "    print(e) # __str__에 정의한 오류 메시지 보임"
   ]
  },
  {
   "cell_type": "code",
   "execution_count": 45,
   "id": "2e9bfff6-c240-4998-aa54-c00d82283063",
   "metadata": {},
   "outputs": [
    {
     "ename": "MyError",
     "evalue": "허용되지 않는 별명입니다.",
     "output_type": "error",
     "traceback": [
      "\u001b[1;31m---------------------------------------------------------------------------\u001b[0m",
      "\u001b[1;31mMyError\u001b[0m                                   Traceback (most recent call last)",
      "Cell \u001b[1;32mIn[45], line 1\u001b[0m\n\u001b[1;32m----> 1\u001b[0m say_nick(\u001b[38;5;124m'\u001b[39m\u001b[38;5;124m바보\u001b[39m\u001b[38;5;124m'\u001b[39m)\n",
      "Cell \u001b[1;32mIn[37], line 3\u001b[0m, in \u001b[0;36msay_nick\u001b[1;34m(nick)\u001b[0m\n\u001b[0;32m      1\u001b[0m \u001b[38;5;28;01mdef\u001b[39;00m\u001b[38;5;250m \u001b[39m\u001b[38;5;21msay_nick\u001b[39m(nick):\n\u001b[0;32m      2\u001b[0m     \u001b[38;5;28;01mif\u001b[39;00m nick \u001b[38;5;241m==\u001b[39m\u001b[38;5;124m'\u001b[39m\u001b[38;5;124m바보\u001b[39m\u001b[38;5;124m'\u001b[39m:\n\u001b[1;32m----> 3\u001b[0m         \u001b[38;5;28;01mraise\u001b[39;00m MyError() \u001b[38;5;66;03m# 강제로 예외 발생\u001b[39;00m\n\u001b[0;32m      4\u001b[0m     \u001b[38;5;28mprint\u001b[39m(nick)\n",
      "\u001b[1;31mMyError\u001b[0m: 허용되지 않는 별명입니다."
     ]
    }
   ],
   "source": [
    "say_nick('바보')"
   ]
  },
  {
   "cell_type": "code",
   "execution_count": null,
   "id": "66b636f8-2023-48fd-8c2b-bce575cb2e1f",
   "metadata": {
    "editable": true,
    "slideshow": {
     "slide_type": ""
    },
    "tags": []
   },
   "outputs": [],
   "source": []
  }
 ],
 "metadata": {
  "kernelspec": {
   "display_name": "Python 3 (ipykernel)",
   "language": "python",
   "name": "python3"
  },
  "language_info": {
   "codemirror_mode": {
    "name": "ipython",
    "version": 3
   },
   "file_extension": ".py",
   "mimetype": "text/x-python",
   "name": "python",
   "nbconvert_exporter": "python",
   "pygments_lexer": "ipython3",
   "version": "3.13.5"
  }
 },
 "nbformat": 4,
 "nbformat_minor": 5
}
