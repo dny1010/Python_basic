{
 "cells": [
  {
   "cell_type": "markdown",
   "id": "3abe0635-4c4f-47fb-ab74-d0a10ba52fad",
   "metadata": {},
   "source": [
    "### 1. if문의 기본 구조"
   ]
  },
  {
   "cell_type": "code",
   "execution_count": 5,
   "id": "285cf97b-38d4-41f4-9f7d-659887bb8170",
   "metadata": {},
   "outputs": [
    {
     "ename": "IndentationError",
     "evalue": "unexpected indent (3436091172.py, line 5)",
     "output_type": "error",
     "traceback": [
      "\u001b[1;36m  Cell \u001b[1;32mIn[5], line 5\u001b[1;36m\u001b[0m\n\u001b[1;33m    print(\"가라\") #여기서 error가 남\u001b[0m\n\u001b[1;37m    ^\u001b[0m\n\u001b[1;31mIndentationError\u001b[0m\u001b[1;31m:\u001b[0m unexpected indent\n"
     ]
    }
   ],
   "source": [
    "money = true\n",
    "if money :\n",
    "    print(\"택시를\") # if문은 여기서 끝남\n",
    "print(\"타고\") # if문하고 상관없는 print함수\n",
    "    print(\"가라\") #여기서 error가 남"
   ]
  },
  {
   "cell_type": "code",
   "execution_count": 3,
   "id": "60a6976d-5eac-45ba-82c0-3a35853bea79",
   "metadata": {},
   "outputs": [
    {
     "name": "stdout",
     "output_type": "stream",
     "text": [
      "타고\n"
     ]
    }
   ],
   "source": [
    "money = False\n",
    "if money :\n",
    "    print(\"택시를\")\n",
    "print(\"타고\")"
   ]
  },
  {
   "cell_type": "code",
   "execution_count": 6,
   "id": "05ba5c3c-1660-4180-b4c6-6e73ef1861be",
   "metadata": {},
   "outputs": [
    {
     "name": "stdout",
     "output_type": "stream",
     "text": [
      "택시를\n",
      "타고\n"
     ]
    }
   ],
   "source": [
    "money = True\n",
    "if money :\n",
    "    print(\"택시를\")\n",
    "    print(\"타고\")"
   ]
  },
  {
   "cell_type": "code",
   "execution_count": 7,
   "id": "55a1d11f-02f9-45bc-b0aa-64411ecea3f2",
   "metadata": {},
   "outputs": [
    {
     "ename": "SyntaxError",
     "evalue": "expected ':' (2299780130.py, line 1)",
     "output_type": "error",
     "traceback": [
      "\u001b[1;36m  Cell \u001b[1;32mIn[7], line 1\u001b[1;36m\u001b[0m\n\u001b[1;33m    if money\u001b[0m\n\u001b[1;37m            ^\u001b[0m\n\u001b[1;31mSyntaxError\u001b[0m\u001b[1;31m:\u001b[0m expected ':'\n"
     ]
    }
   ],
   "source": [
    "if money\n",
    "    print(\"택시타기\")"
   ]
  },
  {
   "cell_type": "markdown",
   "id": "51dac5e2-2707-4a24-8c5b-19b5de1ae648",
   "metadata": {},
   "source": [
    "### 2. 연산자"
   ]
  },
  {
   "cell_type": "code",
   "execution_count": 9,
   "id": "6480fce9-6339-4658-a779-87444437d9c9",
   "metadata": {},
   "outputs": [
    {
     "name": "stdout",
     "output_type": "stream",
     "text": [
      "True\n",
      "False\n",
      "False\n",
      "True\n"
     ]
    }
   ],
   "source": [
    "# 비교 연산자\n",
    "x = 3\n",
    "y = 2\n",
    "\n",
    "print(x>y)  # True\n",
    "print(x<y)  # False\n",
    "print(x==y) # False (x와 y는 같다)\n",
    "print(x!=y) # True  (x와 y는 같지 않다)"
   ]
  },
  {
   "cell_type": "code",
   "execution_count": 12,
   "id": "2804b99b-084f-4270-a6ca-fb7aa8b8483c",
   "metadata": {},
   "outputs": [
    {
     "name": "stdout",
     "output_type": "stream",
     "text": [
      "걸어가기\n"
     ]
    }
   ],
   "source": [
    "money = 2000\n",
    "\n",
    "if money >=3000 :\n",
    "    print(\"택시타기\")\n",
    "else :\n",
    "    print(\"걸어가기\")"
   ]
  },
  {
   "cell_type": "code",
   "execution_count": 13,
   "id": "e57b4085-36d2-4a15-a8a3-635d6ea1e536",
   "metadata": {},
   "outputs": [
    {
     "name": "stdout",
     "output_type": "stream",
     "text": [
      "택시타기\n"
     ]
    }
   ],
   "source": [
    "# 논리 연산자\n",
    "# 조건식 x, y => and 둘 다 True일 때 True\n",
    "#             => or  하나만 True이면 True\n",
    "#             => not Ture->False, False->True\n",
    "\n",
    "money = 2000\n",
    "card = True\n",
    "\n",
    "if money >=3000 or card:\n",
    "    print(\"택시타기\")\n",
    "else :\n",
    "    print(\"걸어가기\")"
   ]
  },
  {
   "cell_type": "code",
   "execution_count": 14,
   "id": "fab1edd5-7675-497d-baa1-3ccdabfdc5f8",
   "metadata": {},
   "outputs": [
    {
     "data": {
      "text/plain": [
       "True"
      ]
     },
     "execution_count": 14,
     "metadata": {},
     "output_type": "execute_result"
    }
   ],
   "source": [
    "# in, not in\n",
    "1 in [1,2,3]"
   ]
  },
  {
   "cell_type": "code",
   "execution_count": 15,
   "id": "2a048932-3585-4311-812f-0dbdc87599cd",
   "metadata": {},
   "outputs": [
    {
     "data": {
      "text/plain": [
       "False"
      ]
     },
     "execution_count": 15,
     "metadata": {},
     "output_type": "execute_result"
    }
   ],
   "source": [
    "1 not in [1,2,3]"
   ]
  },
  {
   "cell_type": "code",
   "execution_count": 16,
   "id": "541e989d-26b4-4478-bceb-cdf1fe5f5922",
   "metadata": {},
   "outputs": [
    {
     "data": {
      "text/plain": [
       "True"
      ]
     },
     "execution_count": 16,
     "metadata": {},
     "output_type": "execute_result"
    }
   ],
   "source": [
    "'a' in ('a', 'b','c')"
   ]
  },
  {
   "cell_type": "code",
   "execution_count": 17,
   "id": "917af30e-570b-48cf-9e1a-ba1d5bf997aa",
   "metadata": {},
   "outputs": [
    {
     "data": {
      "text/plain": [
       "False"
      ]
     },
     "execution_count": 17,
     "metadata": {},
     "output_type": "execute_result"
    }
   ],
   "source": [
    "'d' in ('a', 'b','c')"
   ]
  },
  {
   "cell_type": "code",
   "execution_count": 18,
   "id": "789240a9-1f60-4707-b062-3915579a674e",
   "metadata": {},
   "outputs": [
    {
     "data": {
      "text/plain": [
       "True"
      ]
     },
     "execution_count": 18,
     "metadata": {},
     "output_type": "execute_result"
    }
   ],
   "source": [
    "'d' not in ('a', 'b','c')"
   ]
  },
  {
   "cell_type": "code",
   "execution_count": 19,
   "id": "4059141b-5dec-44b7-823d-93ebc150acfe",
   "metadata": {},
   "outputs": [
    {
     "name": "stdout",
     "output_type": "stream",
     "text": [
      "택시타기\n"
     ]
    }
   ],
   "source": [
    "pocket = ['paper', 'cellphone', 'money']\n",
    "\n",
    "if 'money' in pocket :\n",
    "    print(\"택시타기\")\n",
    "else :\n",
    "    print(\"걸어가기\")"
   ]
  },
  {
   "cell_type": "code",
   "execution_count": 24,
   "id": "9f3d8ee2-1f77-4afb-af85-65be1bd9cc66",
   "metadata": {},
   "outputs": [],
   "source": [
    "# pass : 실행문 실행하지 않고 넘억가ㅣ\n",
    "pocket = ['paper', 'cellphone', 'money']\n",
    "\n",
    "if 'money' in pocket :\n",
    "    pass\n",
    "else :\n",
    "    print(\"카드 꺼내기\")"
   ]
  },
  {
   "cell_type": "code",
   "execution_count": 26,
   "id": "67ca0a58-bac2-4e83-8184-23e5e90e5e0a",
   "metadata": {},
   "outputs": [
    {
     "name": "stdout",
     "output_type": "stream",
     "text": [
      "택시 타기\n"
     ]
    }
   ],
   "source": [
    "pocket = ['paper', 'cellphone', 'money']\n",
    "\n",
    "if 'money' in pocket :\n",
    "    pass\n",
    "    print(\"택시 타기\")\n",
    "else :\n",
    "    print(\"카드 꺼내기\")"
   ]
  },
  {
   "cell_type": "markdown",
   "id": "2d0160af-d45d-4765-858a-8556d6c1e81e",
   "metadata": {},
   "source": [
    "### 3. 다양한 조건을 판단하는 elif"
   ]
  },
  {
   "cell_type": "code",
   "execution_count": 27,
   "id": "60e6d2f7-969b-4989-b16f-072ca78e03be",
   "metadata": {},
   "outputs": [
    {
     "name": "stdout",
     "output_type": "stream",
     "text": [
      "택시타기\n"
     ]
    }
   ],
   "source": [
    "# if, else만으로 표현\n",
    "\n",
    "pocket = ['phone','paper']\n",
    "card = True\n",
    "\n",
    "if 'money' in pocket :\n",
    "    print(\"택시타기\")\n",
    "else :\n",
    "    if card :\n",
    "        print(\"택시타기\")\n",
    "    else :\n",
    "        print(\"걸어가기\")"
   ]
  },
  {
   "cell_type": "code",
   "execution_count": 29,
   "id": "af6130e2-c1c6-4895-92d2-d708544ef1ca",
   "metadata": {},
   "outputs": [
    {
     "name": "stdout",
     "output_type": "stream",
     "text": [
      "카드로 택시타기\n"
     ]
    }
   ],
   "source": [
    "# elif 사용\n",
    "\n",
    "pocket = ['phone','paper']\n",
    "card = True\n",
    "\n",
    "if 'money' in pocket :\n",
    "    print(\"택시타기\")\n",
    "elif card :\n",
    "    print(\"카드로 택시타기\")\n",
    "else :\n",
    "    print(\"걸어가기\")"
   ]
  },
  {
   "cell_type": "code",
   "execution_count": 30,
   "id": "7fdfb63d-a952-44f3-8785-3f93214c465b",
   "metadata": {},
   "outputs": [
    {
     "name": "stdout",
     "output_type": "stream",
     "text": [
      "D\n"
     ]
    }
   ],
   "source": [
    "math = 60\n",
    "\n",
    "if math >= 90 :\n",
    "    print('A')\n",
    "elif math >=80 :\n",
    "    print('B')\n",
    "elif math >=70 :\n",
    "    print('C')\n",
    "elif math >=60 :\n",
    "    print('D')\n",
    "else :\n",
    "    print('F')"
   ]
  },
  {
   "cell_type": "code",
   "execution_count": 31,
   "id": "64a71b0c-eeb5-4124-b813-b19381a7b208",
   "metadata": {},
   "outputs": [],
   "source": [
    "# if문 한줄로 직성하기\n",
    "\n",
    "pocket = ['paper', 'cellphone', 'money']\n",
    "\n",
    "if 'money' in pocket : pass\n",
    "else : print(\"카드 꺼내기\")"
   ]
  },
  {
   "cell_type": "markdown",
   "id": "51612ba8-30d8-4683-95ef-fb7397ac25d9",
   "metadata": {},
   "source": [
    "### 4. 조건부 표현식"
   ]
  },
  {
   "cell_type": "code",
   "execution_count": 35,
   "id": "fc3ef7bb-a9d2-41b2-b4e4-347c064d5c3f",
   "metadata": {},
   "outputs": [
    {
     "name": "stdout",
     "output_type": "stream",
     "text": [
      "success\n"
     ]
    }
   ],
   "source": [
    "# if /else 문\n",
    "score = 90\n",
    "\n",
    "if score >=60 :\n",
    "    message = \"success\"\n",
    "else:\n",
    "    message = \"fauilure\"\n",
    "\n",
    "print(message)"
   ]
  },
  {
   "cell_type": "code",
   "execution_count": 41,
   "id": "052d29e1-d506-4ad1-b28d-f1c3be21a027",
   "metadata": {},
   "outputs": [
    {
     "name": "stdout",
     "output_type": "stream",
     "text": [
      "success\n"
     ]
    }
   ],
   "source": [
    "#조건부 표현식\n",
    "message = \"success\" if score >= 60 else \"failure\" # message가 변수, if 앞이 True값 / else 뒤가 false값이므로 else 뒤에 message를 쓰면 오류 남 !\n",
    "print(message)"
   ]
  },
  {
   "cell_type": "code",
   "execution_count": 42,
   "id": "0ebc10ff-89ad-486b-8035-4297d00ac3cf",
   "metadata": {},
   "outputs": [],
   "source": [
    "# 조건문은 프로그램의 흐름을 바꿀 때 사용"
   ]
  },
  {
   "cell_type": "code",
   "execution_count": null,
   "id": "4c110247-9b2f-48fb-a2e0-dbaf2a7efaa2",
   "metadata": {},
   "outputs": [],
   "source": []
  }
 ],
 "metadata": {
  "kernelspec": {
   "display_name": "Python 3 (ipykernel)",
   "language": "python",
   "name": "python3"
  },
  "language_info": {
   "codemirror_mode": {
    "name": "ipython",
    "version": 3
   },
   "file_extension": ".py",
   "mimetype": "text/x-python",
   "name": "python",
   "nbconvert_exporter": "python",
   "pygments_lexer": "ipython3",
   "version": "3.13.5"
  }
 },
 "nbformat": 4,
 "nbformat_minor": 5
}
