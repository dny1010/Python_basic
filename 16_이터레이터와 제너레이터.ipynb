{
 "cells": [
  {
   "cell_type": "markdown",
   "id": "5195d4fd-15eb-43ba-9484-66e2875990a6",
   "metadata": {},
   "source": [
    "### 1. 이터레이터란 ?"
   ]
  },
  {
   "cell_type": "code",
   "execution_count": 1,
   "id": "e3e39c64-11f9-4112-86fe-2af5fd3f7dd8",
   "metadata": {},
   "outputs": [
    {
     "ename": "TypeError",
     "evalue": "'list' object is not an iterator",
     "output_type": "error",
     "traceback": [
      "\u001b[1;31m---------------------------------------------------------------------------\u001b[0m",
      "\u001b[1;31mTypeError\u001b[0m                                 Traceback (most recent call last)",
      "Cell \u001b[1;32mIn[1], line 2\u001b[0m\n\u001b[0;32m      1\u001b[0m a \u001b[38;5;241m=\u001b[39m [\u001b[38;5;241m1\u001b[39m,\u001b[38;5;241m2\u001b[39m,\u001b[38;5;241m3\u001b[39m]\n\u001b[1;32m----> 2\u001b[0m \u001b[38;5;28mnext\u001b[39m(a)\n",
      "\u001b[1;31mTypeError\u001b[0m: 'list' object is not an iterator"
     ]
    }
   ],
   "source": [
    "a = [1,2,3]\n",
    "next(a) # 이터레이터 객체가 아니라서 오류남"
   ]
  },
  {
   "cell_type": "code",
   "execution_count": 2,
   "id": "467cf1e3-71af-4fbc-8af4-d456af8108d0",
   "metadata": {},
   "outputs": [
    {
     "data": {
      "text/plain": [
       "list_iterator"
      ]
     },
     "execution_count": 2,
     "metadata": {},
     "output_type": "execute_result"
    }
   ],
   "source": [
    "# 리스트를 iter()함수를 써서 이터레이터 객체로 변환\n",
    "a = [1,2,3]\n",
    "ia = iter(a)\n",
    "type(ia)"
   ]
  },
  {
   "cell_type": "code",
   "execution_count": 3,
   "id": "d313ca69-5c11-4aea-baec-334d76aa0013",
   "metadata": {},
   "outputs": [
    {
     "data": {
      "text/plain": [
       "1"
      ]
     },
     "execution_count": 3,
     "metadata": {},
     "output_type": "execute_result"
    }
   ],
   "source": [
    "next(ia)"
   ]
  },
  {
   "cell_type": "code",
   "execution_count": 4,
   "id": "4536cbf1-c81a-49e7-8d12-c37903b1f221",
   "metadata": {},
   "outputs": [
    {
     "data": {
      "text/plain": [
       "2"
      ]
     },
     "execution_count": 4,
     "metadata": {},
     "output_type": "execute_result"
    }
   ],
   "source": [
    "next(ia)"
   ]
  },
  {
   "cell_type": "code",
   "execution_count": 5,
   "id": "19c3a2ec-22f7-4455-a737-ecec724f1ac0",
   "metadata": {},
   "outputs": [
    {
     "data": {
      "text/plain": [
       "3"
      ]
     },
     "execution_count": 5,
     "metadata": {},
     "output_type": "execute_result"
    }
   ],
   "source": [
    "next(ia)"
   ]
  },
  {
   "cell_type": "code",
   "execution_count": 7,
   "id": "e9855d1b-cd7b-415c-a4c0-2b5f728685d6",
   "metadata": {},
   "outputs": [
    {
     "ename": "StopIteration",
     "evalue": "",
     "output_type": "error",
     "traceback": [
      "\u001b[1;31m---------------------------------------------------------------------------\u001b[0m",
      "\u001b[1;31mStopIteration\u001b[0m                             Traceback (most recent call last)",
      "Cell \u001b[1;32mIn[7], line 1\u001b[0m\n\u001b[1;32m----> 1\u001b[0m \u001b[38;5;28mnext\u001b[39m(ia)\n",
      "\u001b[1;31mStopIteration\u001b[0m: "
     ]
    }
   ],
   "source": [
    "next(ia) # 앞에서부터 차례대로 가져오고 없으면 에러남"
   ]
  },
  {
   "cell_type": "code",
   "execution_count": 8,
   "id": "eb172637-1ce7-4562-be06-984eeff7c79e",
   "metadata": {},
   "outputs": [
    {
     "name": "stdout",
     "output_type": "stream",
     "text": [
      "1\n",
      "2\n",
      "3\n"
     ]
    }
   ],
   "source": [
    "# 이터레이터의 값을 가져오는 일반적인 방법(for문)\n",
    "a = [1,2,3]\n",
    "ia = iter(a)\n",
    "for i in ia:\n",
    "    print(i)"
   ]
  },
  {
   "cell_type": "code",
   "execution_count": 9,
   "id": "24811537-afe7-4b00-9367-fceb2443de35",
   "metadata": {},
   "outputs": [],
   "source": [
    "# 이터레이터 객체는 for문이나 net()로 그 값을 한 번 읽으면 다시 읽을 수 없음 !\n",
    "for i in ia:\n",
    "    print(i)"
   ]
  },
  {
   "cell_type": "markdown",
   "id": "5f677bdf-f62d-49a6-aeed-b5e38335186e",
   "metadata": {},
   "source": [
    "### 2. 제너레이터란 ?"
   ]
  },
  {
   "cell_type": "code",
   "execution_count": 11,
   "id": "06d89171-370c-40f2-b2fe-fcecaf9341eb",
   "metadata": {},
   "outputs": [],
   "source": [
    "# 가장 간단한 제너레이터 / yield => 일시정지\n",
    "def mygen():\n",
    "    yield 'a'\n",
    "    yield 'b'\n",
    "    yield 'c'\n",
    "\n",
    "g = mygen()"
   ]
  },
  {
   "cell_type": "code",
   "execution_count": 12,
   "id": "5ffa45b9-a05d-4ead-af85-f561e9d670ed",
   "metadata": {},
   "outputs": [
    {
     "data": {
      "text/plain": [
       "generator"
      ]
     },
     "execution_count": 12,
     "metadata": {},
     "output_type": "execute_result"
    }
   ],
   "source": [
    "type(g)"
   ]
  },
  {
   "cell_type": "code",
   "execution_count": 13,
   "id": "cf9a37d3-7f2c-4af5-952f-a07d6fef96e9",
   "metadata": {},
   "outputs": [
    {
     "data": {
      "text/plain": [
       "'a'"
      ]
     },
     "execution_count": 13,
     "metadata": {},
     "output_type": "execute_result"
    }
   ],
   "source": [
    "next(g)"
   ]
  },
  {
   "cell_type": "code",
   "execution_count": 14,
   "id": "4288922c-b380-4ead-8da0-f16a67e20f9c",
   "metadata": {},
   "outputs": [
    {
     "data": {
      "text/plain": [
       "'b'"
      ]
     },
     "execution_count": 14,
     "metadata": {},
     "output_type": "execute_result"
    }
   ],
   "source": [
    "next(g)"
   ]
  },
  {
   "cell_type": "code",
   "execution_count": 15,
   "id": "bc504530-62a2-433c-8700-318857dd32e7",
   "metadata": {},
   "outputs": [
    {
     "data": {
      "text/plain": [
       "'c'"
      ]
     },
     "execution_count": 15,
     "metadata": {},
     "output_type": "execute_result"
    }
   ],
   "source": [
    "next(g)"
   ]
  },
  {
   "cell_type": "code",
   "execution_count": 16,
   "id": "b2013ba6-4ca3-4d93-aafc-8b129381b869",
   "metadata": {},
   "outputs": [
    {
     "ename": "StopIteration",
     "evalue": "",
     "output_type": "error",
     "traceback": [
      "\u001b[1;31m---------------------------------------------------------------------------\u001b[0m",
      "\u001b[1;31mStopIteration\u001b[0m                             Traceback (most recent call last)",
      "Cell \u001b[1;32mIn[16], line 1\u001b[0m\n\u001b[1;32m----> 1\u001b[0m \u001b[38;5;28mnext\u001b[39m(g)\n",
      "\u001b[1;31mStopIteration\u001b[0m: "
     ]
    }
   ],
   "source": [
    "next(g)"
   ]
  },
  {
   "cell_type": "markdown",
   "id": "1f4c0d11-c818-4b9e-b03c-880d590a362b",
   "metadata": {},
   "source": [
    "### 3. 제너레이터 표현식"
   ]
  },
  {
   "cell_type": "code",
   "execution_count": 18,
   "id": "4e519515-3e4d-411b-a3d5-18518e801c5f",
   "metadata": {},
   "outputs": [
    {
     "name": "stdout",
     "output_type": "stream",
     "text": [
      "1\n",
      "4\n",
      "9\n"
     ]
    }
   ],
   "source": [
    "def mygen(): # 이 함수 타입은 제너레이터\n",
    "    for i in range(1, 1000):\n",
    "        result = i*i\n",
    "        yield result \n",
    "\n",
    "gen = mygen()\n",
    "\n",
    "print(next(gen))\n",
    "print(next(gen))\n",
    "print(next(gen))"
   ]
  },
  {
   "cell_type": "code",
   "execution_count": 19,
   "id": "37472f20-6783-46c6-8e92-89e4bf409a61",
   "metadata": {},
   "outputs": [
    {
     "name": "stdout",
     "output_type": "stream",
     "text": [
      "1\n",
      "4\n",
      "9\n",
      "16\n",
      "25\n"
     ]
    }
   ],
   "source": [
    "# 제너레이터 표현식 (리스트 컴프리헨션이랑 비슷함)\n",
    "gen = (i*i for i in range(1, 1000)) # 밖 괄호를 대괄호로 바꾸면 리스트 컴프리헨션 / 소괄호면 제너레이터 => 둘이 형식은 똑같음\n",
    "\n",
    "for i in range(1,6):\n",
    "    print(next(gen))"
   ]
  },
  {
   "cell_type": "code",
   "execution_count": null,
   "id": "9fa33786-c7d9-476c-9e56-45dc72ce55ec",
   "metadata": {},
   "outputs": [],
   "source": []
  }
 ],
 "metadata": {
  "kernelspec": {
   "display_name": "Python 3 (ipykernel)",
   "language": "python",
   "name": "python3"
  },
  "language_info": {
   "codemirror_mode": {
    "name": "ipython",
    "version": 3
   },
   "file_extension": ".py",
   "mimetype": "text/x-python",
   "name": "python",
   "nbconvert_exporter": "python",
   "pygments_lexer": "ipython3",
   "version": "3.13.5"
  }
 },
 "nbformat": 4,
 "nbformat_minor": 5
}
