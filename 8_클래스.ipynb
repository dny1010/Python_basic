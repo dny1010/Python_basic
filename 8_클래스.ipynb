{
 "cells": [
  {
   "cell_type": "code",
   "execution_count": 38,
   "id": "7a23ff92-4abb-4f39-84c4-5bac00583007",
   "metadata": {},
   "outputs": [],
   "source": [
    "# 함수랑 클래스 중요 !!\n",
    "# 오버라이딩 중요 !!"
   ]
  },
  {
   "cell_type": "markdown",
   "id": "9253973d-be02-4cd1-b194-8283799bead7",
   "metadata": {},
   "source": [
    "### 1. 클래스는 왜 필요한가 ??"
   ]
  },
  {
   "cell_type": "code",
   "execution_count": 3,
   "id": "8a5f8088-7a88-44be-ae37-6ed9dd78f3a2",
   "metadata": {},
   "outputs": [
    {
     "name": "stdout",
     "output_type": "stream",
     "text": [
      "3\n",
      "7\n"
     ]
    }
   ],
   "source": [
    "# 함수로 계산기 만들기\n",
    "result = 0 # 초기값\n",
    "\n",
    "def add(num):\n",
    "    global result\n",
    "    result +=num\n",
    "    return result\n",
    "    \n",
    "print(add(3)) # 0+3 = 3\n",
    "print(add(4)) # 3+4 = 7"
   ]
  },
  {
   "cell_type": "code",
   "execution_count": 4,
   "id": "1d33dc45-0488-49e4-9d04-93d69c724dab",
   "metadata": {},
   "outputs": [
    {
     "name": "stdout",
     "output_type": "stream",
     "text": [
      "3\n",
      "7\n",
      "5\n",
      "11\n"
     ]
    }
   ],
   "source": [
    "# 계산기 2개로 각각 계산\n",
    "res1 = 0\n",
    "res2 = 0\n",
    "\n",
    "def add1(num):\n",
    "    global res1\n",
    "    res1+=num\n",
    "    return res1\n",
    "\n",
    "def add2(num):\n",
    "    global res2\n",
    "    res2+=num\n",
    "    return res2\n",
    "\n",
    "print(add1(3))\n",
    "print(add1(4))\n",
    "print(add2(5))\n",
    "print(add2(6))"
   ]
  },
  {
   "cell_type": "code",
   "execution_count": 7,
   "id": "6ae882b3-f090-49fc-88b5-3971f0113441",
   "metadata": {},
   "outputs": [
    {
     "name": "stdout",
     "output_type": "stream",
     "text": [
      "3\n",
      "7\n",
      "5\n",
      "11\n"
     ]
    }
   ],
   "source": [
    "# 클래스로 여러개 계산기 만들기\n",
    "class Calculater: # 클래스는 첫글자를 대문자로 함 / 클래스는 매개변수 X\n",
    "    def __init__(self):\n",
    "        self.result = 0 # 계산기 초기값\n",
    "\n",
    "    def add(self, num):\n",
    "        self.result += num\n",
    "        return self.result\n",
    "\n",
    "cal1 = Calculater() # 인스턴스 - 계산기 1 # Calculater() = 함수 X => 클래스 호출한 것\n",
    "cal2 = Calculater() # 인스턴스 - 계산기 2\n",
    "# cal1,cal2가 객체, Calculater는 인스턴스\n",
    "print(cal1.add(3))\n",
    "print(cal1.add(4))\n",
    "print(cal2.add(5))\n",
    "print(cal2.add(6))"
   ]
  },
  {
   "cell_type": "code",
   "execution_count": 8,
   "id": "d08a905e-ae09-469f-8647-ac5b06f00139",
   "metadata": {},
   "outputs": [
    {
     "name": "stdout",
     "output_type": "stream",
     "text": [
      "10\n",
      "13\n",
      "8\n",
      "--------------------\n",
      "-5\n",
      "15\n"
     ]
    }
   ],
   "source": [
    "# 더하기 / 빼기 기능이 있는 계산기의 설계도 (class)\n",
    "class Calculater:\n",
    "    def __init__(self):   # 생성자 함수\n",
    "        self.result = 0\n",
    "\n",
    "    def add(self, num):\n",
    "        self.result += num\n",
    "        return self.result\n",
    "\n",
    "    def sub(self, num):\n",
    "        self.result -= num\n",
    "        return self.result\n",
    "\n",
    "cal1 = Calculater()\n",
    "print(cal1.add(10)) # 0 + 10 = 10\n",
    "print(cal1.add(3))  # 10 + 3 = 13\n",
    "print(cal1.sub(5))  # 13 - 5 = 8\n",
    "print('-'*20)\n",
    "\n",
    "cal2 = Calculater()\n",
    "print(cal2.sub(5))  # 0 - 5 = -5\n",
    "print(cal2.add(20)) # -5 + 20 = 15"
   ]
  },
  {
   "cell_type": "markdown",
   "id": "b350929e-0bd0-45e4-ba3d-c6e4cfb9db83",
   "metadata": {},
   "source": [
    "### 3. 사칙연산 클래스"
   ]
  },
  {
   "cell_type": "code",
   "execution_count": 9,
   "id": "ecb7daab-5dc8-4178-b2cd-42e6883fb58f",
   "metadata": {},
   "outputs": [],
   "source": [
    "class FourCal:\n",
    "    pass"
   ]
  },
  {
   "cell_type": "code",
   "execution_count": 11,
   "id": "6b1a7ea7-297e-46c9-86c0-63827b49c772",
   "metadata": {},
   "outputs": [
    {
     "data": {
      "text/plain": [
       "__main__.FourCal"
      ]
     },
     "execution_count": 11,
     "metadata": {},
     "output_type": "execute_result"
    }
   ],
   "source": [
    "a = FourCal() # 우리가 만든 클래스는 우리가 만든 이름으로 타입이 지정됨\n",
    "type(a)"
   ]
  },
  {
   "cell_type": "code",
   "execution_count": 16,
   "id": "7ad126f5-f845-4400-9598-87c97151a6ac",
   "metadata": {},
   "outputs": [],
   "source": [
    "class FourCal:\n",
    "    def setdata(self,first,second): # class안에서 선언할 때 self 꼭 쓰기 !\n",
    "        self.first = first          # 앞에 있는 first는 객체의 first, 뒤에 first는 입력받은 값이라 둘이 다른 first !\n",
    "        self.second = second        # second도 마찬가지"
   ]
  },
  {
   "cell_type": "code",
   "execution_count": 18,
   "id": "8f0a4cb7-e8e0-43a6-b764-9212f5a91b20",
   "metadata": {},
   "outputs": [
    {
     "name": "stdout",
     "output_type": "stream",
     "text": [
      "3 4\n"
     ]
    }
   ],
   "source": [
    "a = FourCal()  # 인스턴스 생성\n",
    "a.setdata(3,4)\n",
    "print(a.first, a.second)"
   ]
  },
  {
   "cell_type": "code",
   "execution_count": 19,
   "id": "0fd35f2a-c598-49ea-97b9-2657944a8353",
   "metadata": {},
   "outputs": [
    {
     "name": "stdout",
     "output_type": "stream",
     "text": [
      "6\n",
      "2\n",
      "8\n",
      "2.0\n",
      "--------------------\n",
      "11\n",
      "-5\n",
      "24\n",
      "0.375\n"
     ]
    }
   ],
   "source": [
    "class FourCal:\n",
    "    def setdata(self,first,second):\n",
    "        self.first = first\n",
    "        self.second = second\n",
    "\n",
    "    def add(self):    # self가 이미 self.first, self.second를 가지고 있어서 self만 써줘도 됨 !\n",
    "        result = self.first + self.second\n",
    "        return result\n",
    "\n",
    "    def sub(self):\n",
    "        result = self.first - self.second\n",
    "        return result\n",
    "\n",
    "    def mul(self):\n",
    "        result = self.first * self.second\n",
    "        return result\n",
    "\n",
    "    def div(self):\n",
    "        result = self.first / self.second\n",
    "        return result\n",
    "\n",
    "cal1 = FourCal()    # 계산기 1\n",
    "cal2 = FourCal()    # 계산기 2\n",
    "\n",
    "#계산기에 2개의 숫자 입력\n",
    "cal1.setdata(4,2)\n",
    "cal2.setdata(3,8)\n",
    "\n",
    "print(cal1.add())\n",
    "print(cal1.sub())\n",
    "print(cal1.mul())\n",
    "print(cal1.div())\n",
    "print('-'*20)\n",
    "print(cal2.add())\n",
    "print(cal2.sub())\n",
    "print(cal2.mul())\n",
    "print(cal2.div())"
   ]
  },
  {
   "cell_type": "markdown",
   "id": "da00a593-f374-462c-a439-ec3e8c24345e",
   "metadata": {},
   "source": [
    "### 4. 생성자"
   ]
  },
  {
   "cell_type": "code",
   "execution_count": 20,
   "id": "eb714256-c7b0-4e7e-be3b-2f9bec4da713",
   "metadata": {},
   "outputs": [],
   "source": [
    "class FourCal:\n",
    "    def __init__(self,first,second):\n",
    "        self.first = first\n",
    "        self.second = second\n",
    "\n",
    "    def add(self):\n",
    "        result = self.first + self.second\n",
    "        return result\n",
    "\n",
    "    def sub(self):\n",
    "        result = self.first - self.second\n",
    "        return result\n",
    "\n",
    "    def mul(self):\n",
    "        result = self.first * self.second\n",
    "        return result\n",
    "\n",
    "    def div(self):\n",
    "        result = self.first / self.second\n",
    "        return result"
   ]
  },
  {
   "cell_type": "code",
   "execution_count": 21,
   "id": "0cffc305-7985-4d62-aa24-7384955c80cb",
   "metadata": {},
   "outputs": [
    {
     "ename": "TypeError",
     "evalue": "FourCal.__init__() missing 2 required positional arguments: 'first' and 'second'",
     "output_type": "error",
     "traceback": [
      "\u001b[1;31m---------------------------------------------------------------------------\u001b[0m",
      "\u001b[1;31mTypeError\u001b[0m                                 Traceback (most recent call last)",
      "Cell \u001b[1;32mIn[21], line 1\u001b[0m\n\u001b[1;32m----> 1\u001b[0m calc1 \u001b[38;5;241m=\u001b[39m FourCal()\n",
      "\u001b[1;31mTypeError\u001b[0m: FourCal.__init__() missing 2 required positional arguments: 'first' and 'second'"
     ]
    }
   ],
   "source": [
    "calc1 = FourCal()"
   ]
  },
  {
   "cell_type": "code",
   "execution_count": 22,
   "id": "8f906c96-74bd-4230-9579-12d8a89ef472",
   "metadata": {},
   "outputs": [],
   "source": [
    "calc1 = FourCal(15,3)"
   ]
  },
  {
   "cell_type": "code",
   "execution_count": 23,
   "id": "91098712-52a9-47db-91be-941910d50891",
   "metadata": {},
   "outputs": [
    {
     "data": {
      "text/plain": [
       "15"
      ]
     },
     "execution_count": 23,
     "metadata": {},
     "output_type": "execute_result"
    }
   ],
   "source": [
    "calc1.first"
   ]
  },
  {
   "cell_type": "code",
   "execution_count": 24,
   "id": "914316de-7ab5-482c-8b45-31081b2042f0",
   "metadata": {},
   "outputs": [
    {
     "data": {
      "text/plain": [
       "3"
      ]
     },
     "execution_count": 24,
     "metadata": {},
     "output_type": "execute_result"
    }
   ],
   "source": [
    "calc1.second"
   ]
  },
  {
   "cell_type": "code",
   "execution_count": 27,
   "id": "1a0dd1de-4492-497d-9427-f7ed720e4705",
   "metadata": {},
   "outputs": [
    {
     "name": "stdout",
     "output_type": "stream",
     "text": [
      "15 + 3 =  18\n",
      "15 - 3 =  12\n",
      "15 * 3 =  45\n",
      "15 / 3 =  5.0\n"
     ]
    }
   ],
   "source": [
    "print('15 + 3 = ',calc1.add())\n",
    "print('15 - 3 = ',calc1.sub())\n",
    "print('15 * 3 = ',calc1.mul())\n",
    "print('15 / 3 = ',calc1.div())"
   ]
  },
  {
   "cell_type": "code",
   "execution_count": 28,
   "id": "bc828373-ce1c-4b28-9d5d-43597b9d129a",
   "metadata": {},
   "outputs": [],
   "source": [
    "# 클래스 안에서 선언한 함수 = 메서드"
   ]
  },
  {
   "cell_type": "markdown",
   "id": "7fb997e6-1d81-4258-8970-6e712b58bca9",
   "metadata": {},
   "source": [
    "### 5. 클래스 상속"
   ]
  },
  {
   "cell_type": "code",
   "execution_count": 29,
   "id": "90dea3f5-14a6-4586-86af-25043cfcd090",
   "metadata": {},
   "outputs": [],
   "source": [
    "class MoreFourCal(FourCal): # class 클래스이름(상속할클래스이름)\n",
    "    pass"
   ]
  },
  {
   "cell_type": "code",
   "execution_count": 30,
   "id": "8fc36100-9c80-4995-8315-99a05849aeb5",
   "metadata": {},
   "outputs": [],
   "source": [
    "cal1 = MoreFourCal(4,2)"
   ]
  },
  {
   "cell_type": "code",
   "execution_count": 31,
   "id": "c11ed3db-8c77-404c-b01c-bd61c75a99c4",
   "metadata": {},
   "outputs": [
    {
     "name": "stdout",
     "output_type": "stream",
     "text": [
      "6\n",
      "2\n",
      "8\n",
      "2.0\n"
     ]
    }
   ],
   "source": [
    "print(cal1.add())\n",
    "print(cal1.sub())\n",
    "print(cal1.mul())\n",
    "print(cal1.div())"
   ]
  },
  {
   "cell_type": "code",
   "execution_count": 32,
   "id": "2b1d5d2a-9718-4ff3-964d-e06e4667c58f",
   "metadata": {},
   "outputs": [
    {
     "name": "stdout",
     "output_type": "stream",
     "text": [
      "6\n",
      "2\n",
      "8\n",
      "2.0\n",
      "16\n"
     ]
    }
   ],
   "source": [
    "# 기본 기능은 상속 받음, MoreFourCal만의 기능 추가\n",
    "class MoreFourCal(FourCal):\n",
    "    def pow(self):\n",
    "        result = self.first ** self.second\n",
    "        return result\n",
    "\n",
    "cal2 = MoreFourCal(4,2)\n",
    "\n",
    "print(cal2.add())\n",
    "print(cal2.sub())\n",
    "print(cal2.mul())\n",
    "print(cal2.div())\n",
    "print(cal2.pow())"
   ]
  },
  {
   "cell_type": "code",
   "execution_count": 33,
   "id": "5e057a0a-cc6a-447c-94f2-6f604e9eeac5",
   "metadata": {},
   "outputs": [
    {
     "name": "stdout",
     "output_type": "stream",
     "text": [
      "4\n",
      "4\n",
      "0\n"
     ]
    }
   ],
   "source": [
    "cal3 = MoreFourCal(4,0)\n",
    "print(cal3.add())\n",
    "print(cal3.sub())\n",
    "print(cal3.mul())"
   ]
  },
  {
   "cell_type": "code",
   "execution_count": 34,
   "id": "1b1a6530-fd64-4aa7-864f-9be44eff0799",
   "metadata": {},
   "outputs": [
    {
     "ename": "ZeroDivisionError",
     "evalue": "division by zero",
     "output_type": "error",
     "traceback": [
      "\u001b[1;31m---------------------------------------------------------------------------\u001b[0m",
      "\u001b[1;31mZeroDivisionError\u001b[0m                         Traceback (most recent call last)",
      "Cell \u001b[1;32mIn[34], line 1\u001b[0m\n\u001b[1;32m----> 1\u001b[0m \u001b[38;5;28mprint\u001b[39m(cal3\u001b[38;5;241m.\u001b[39mdiv())\n",
      "Cell \u001b[1;32mIn[20], line 19\u001b[0m, in \u001b[0;36mFourCal.div\u001b[1;34m(self)\u001b[0m\n\u001b[0;32m     18\u001b[0m \u001b[38;5;28;01mdef\u001b[39;00m\u001b[38;5;250m \u001b[39m\u001b[38;5;21mdiv\u001b[39m(\u001b[38;5;28mself\u001b[39m):\n\u001b[1;32m---> 19\u001b[0m     result \u001b[38;5;241m=\u001b[39m \u001b[38;5;28mself\u001b[39m\u001b[38;5;241m.\u001b[39mfirst \u001b[38;5;241m/\u001b[39m \u001b[38;5;28mself\u001b[39m\u001b[38;5;241m.\u001b[39msecond\n\u001b[0;32m     20\u001b[0m     \u001b[38;5;28;01mreturn\u001b[39;00m result\n",
      "\u001b[1;31mZeroDivisionError\u001b[0m: division by zero"
     ]
    }
   ],
   "source": [
    "print(cal3.div())"
   ]
  },
  {
   "cell_type": "markdown",
   "id": "2df7c781-8a5e-4231-8039-cfdff4355bf4",
   "metadata": {},
   "source": [
    "### 6. 메서드 오버라이딩"
   ]
  },
  {
   "cell_type": "code",
   "execution_count": 35,
   "id": "2d1ccb9f-2318-450f-ac88-7027b252df94",
   "metadata": {},
   "outputs": [],
   "source": [
    "# 부모한테 상속받은 걸 덮어 쓸 수 있음 => 오버라이딩\n",
    "class SafeFourCal(FourCal):\n",
    "    # 상속받은 메서드 재정의(overriding)\n",
    "    def div(self):\n",
    "        if self.second == 0:\n",
    "            return 0\n",
    "        else:\n",
    "            result = self.first / self.second\n",
    "            return result"
   ]
  },
  {
   "cell_type": "code",
   "execution_count": 36,
   "id": "58eabd6c-8fee-4a88-ae09-530d2dbd74b3",
   "metadata": {},
   "outputs": [],
   "source": [
    "calc = SafeFourCal(4,0)"
   ]
  },
  {
   "cell_type": "code",
   "execution_count": 37,
   "id": "a3b56bfd-bbba-4f54-a3ae-1d0257730f7b",
   "metadata": {},
   "outputs": [
    {
     "name": "stdout",
     "output_type": "stream",
     "text": [
      "4\n",
      "4\n",
      "0\n",
      "0\n"
     ]
    }
   ],
   "source": [
    "print(calc.add())\n",
    "print(calc.sub())\n",
    "print(calc.mul())\n",
    "print(calc.div())"
   ]
  },
  {
   "cell_type": "markdown",
   "id": "00bed4c4-c52e-4381-91e1-e8bf70572e89",
   "metadata": {},
   "source": [
    "### 7. 클래스 변수"
   ]
  },
  {
   "cell_type": "code",
   "execution_count": 39,
   "id": "0a2d91b2-301d-4155-9c7f-90d5306760cb",
   "metadata": {},
   "outputs": [],
   "source": [
    "class Family:\n",
    "    lastname = '김'"
   ]
  },
  {
   "cell_type": "code",
   "execution_count": 40,
   "id": "b8731ac1-f5d1-45c0-b428-4cff47806e23",
   "metadata": {},
   "outputs": [
    {
     "data": {
      "text/plain": [
       "'김'"
      ]
     },
     "execution_count": 40,
     "metadata": {},
     "output_type": "execute_result"
    }
   ],
   "source": [
    "Family.lastname"
   ]
  },
  {
   "cell_type": "code",
   "execution_count": 41,
   "id": "d40119b0-2d35-4169-aee4-c63b1df4f8f6",
   "metadata": {},
   "outputs": [
    {
     "name": "stdout",
     "output_type": "stream",
     "text": [
      "김\n",
      "김\n"
     ]
    }
   ],
   "source": [
    "a = Family()\n",
    "b = Family()\n",
    "\n",
    "print(a.lastname)\n",
    "print(b.lastname)"
   ]
  },
  {
   "cell_type": "code",
   "execution_count": 44,
   "id": "51f0f7e6-846f-48e0-aac8-80c0967ea26b",
   "metadata": {},
   "outputs": [
    {
     "name": "stdout",
     "output_type": "stream",
     "text": [
      "박\n",
      "박\n"
     ]
    }
   ],
   "source": [
    "# 클래스 변수 변경\n",
    "Family.lastname = \"박\"\n",
    "# Family.lastname => 클래스 변수, a.lastname => 인스턴스 변수\n",
    "# 클래스 변수를 변경하면 인스턴스 변수도 변경\n",
    "print(a.lastname)\n",
    "print(b.lastname)"
   ]
  },
  {
   "cell_type": "code",
   "execution_count": 45,
   "id": "a4d0f91c-e4ef-48b9-90cb-54ef85ea70c0",
   "metadata": {},
   "outputs": [
    {
     "name": "stdout",
     "output_type": "stream",
     "text": [
      "최\n",
      "박\n"
     ]
    }
   ],
   "source": [
    "# 인스턴스 변수만 변경\n",
    "a.lastname = \"최\"\n",
    "print(a.lastname)  # 인스턴스 변수를 변경하면 해당 인스턴스 변수만 변경됨\n",
    "print(b.lastname)"
   ]
  },
  {
   "cell_type": "code",
   "execution_count": null,
   "id": "91b7414c-e45c-46d9-8781-152ca71fa45b",
   "metadata": {},
   "outputs": [],
   "source": []
  }
 ],
 "metadata": {
  "kernelspec": {
   "display_name": "Python 3 (ipykernel)",
   "language": "python",
   "name": "python3"
  },
  "language_info": {
   "codemirror_mode": {
    "name": "ipython",
    "version": 3
   },
   "file_extension": ".py",
   "mimetype": "text/x-python",
   "name": "python",
   "nbconvert_exporter": "python",
   "pygments_lexer": "ipython3",
   "version": "3.13.5"
  }
 },
 "nbformat": 4,
 "nbformat_minor": 5
}
