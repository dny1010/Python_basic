{
 "cells": [
  {
   "cell_type": "markdown",
   "id": "54e840c2-3f3f-48ba-bfe0-5eb82b008409",
   "metadata": {},
   "source": [
    "### 1. 파이썬 함수"
   ]
  },
  {
   "cell_type": "code",
   "execution_count": 3,
   "id": "8bb5f439-6635-448e-97d1-46b30bdcd8d3",
   "metadata": {},
   "outputs": [
    {
     "name": "stdout",
     "output_type": "stream",
     "text": [
      "7\n",
      "333\n"
     ]
    }
   ],
   "source": [
    "def add(a,b):\n",
    "    return a+b  \n",
    "    # return을 안 쓰면 함수가 값을 가진채로 끝남 / return 빼면 결과값이 none 이라고 뜬다\n",
    "    # return 대신 print를 쓰면 return을 안 써도 됨 + 밑에 print를 안 써도 자동 출력\n",
    "\n",
    "a,b = 3,4\n",
    "c = add(a,b)\n",
    "print(c)\n",
    "\n",
    "d = add(111,222)\n",
    "print(d)"
   ]
  },
  {
   "cell_type": "code",
   "execution_count": 4,
   "id": "e1716a1c-0db1-426c-8169-f39726c64c97",
   "metadata": {},
   "outputs": [
    {
     "name": "stdout",
     "output_type": "stream",
     "text": [
      "6\n"
     ]
    }
   ],
   "source": [
    "# 1. 매개변수 O, 리턴값 O\n",
    "def minus(a,b):\n",
    "    result = a - b\n",
    "    return result\n",
    "\n",
    "a = minus(10,4)\n",
    "print(a)"
   ]
  },
  {
   "cell_type": "code",
   "execution_count": 7,
   "id": "01affb00-70a4-4ff3-b121-d46fbd0dd44c",
   "metadata": {},
   "outputs": [
    {
     "name": "stdout",
     "output_type": "stream",
     "text": [
      "Hi\n"
     ]
    }
   ],
   "source": [
    "# 2. 매개변수 X, 리턴값 O\n",
    "def say ():\n",
    "    return 'Hi'\n",
    "\n",
    "print(say())"
   ]
  },
  {
   "cell_type": "code",
   "execution_count": 11,
   "id": "21c5a349-d4c3-4c79-a38c-829b27dbf32d",
   "metadata": {},
   "outputs": [
    {
     "name": "stdout",
     "output_type": "stream",
     "text": [
      "12, 24의 합은 36입니다.\n",
      "3, 4의 합은 7입니다.\n",
      "None\n"
     ]
    }
   ],
   "source": [
    "# 3. 매개변수 O, 리턴값 X\n",
    "def add(x,y):\n",
    "    print(\"%d, %d의 합은 %d입니다.\"%(x,y,x+y))\n",
    "\n",
    "add(12,24)\n",
    "\n",
    "a = add(3,4) \n",
    "print(a) # a한테는 반환된 값이 X"
   ]
  },
  {
   "cell_type": "code",
   "execution_count": 12,
   "id": "945b9f72-0463-44d3-bb33-68f0f32eb9b0",
   "metadata": {},
   "outputs": [
    {
     "name": "stdout",
     "output_type": "stream",
     "text": [
      "Hi!\n"
     ]
    }
   ],
   "source": [
    "# 4. 매개변수 X, 리턴값 X\n",
    "def say():\n",
    "    print('Hi!')\n",
    "\n",
    "say()"
   ]
  },
  {
   "cell_type": "code",
   "execution_count": 14,
   "id": "919928da-62ae-4888-8402-832bb1d31dec",
   "metadata": {},
   "outputs": [
    {
     "name": "stdout",
     "output_type": "stream",
     "text": [
      "4\n",
      "4\n"
     ]
    }
   ],
   "source": [
    "# 키워드 매개변수\n",
    "def sub(a,b):\n",
    "    return a-b\n",
    "\n",
    "result = sub(7,3)\n",
    "print(result)\n",
    "\n",
    "result2 = sub(b=3,a=7)\n",
    "print(result2)"
   ]
  },
  {
   "cell_type": "code",
   "execution_count": 19,
   "id": "0bbdbb92-a114-4edb-9df3-1719b7bfecca",
   "metadata": {},
   "outputs": [
    {
     "name": "stdout",
     "output_type": "stream",
     "text": [
      "15\n",
      "55\n"
     ]
    }
   ],
   "source": [
    "# 가변 매개변수 (*매개변수명) = 여러개의 매개변수\n",
    "def add_many(*args):\n",
    "    result = 0\n",
    "    for i in args:\n",
    "        result += i\n",
    "    return result\n",
    "\n",
    "res1 = add_many(1,2,3,4,5) # 튜플형식\n",
    "print(res1)\n",
    "\n",
    "res2 = add_many(1,2,3,4,5,6,7,8,9,10)\n",
    "print(res2)"
   ]
  },
  {
   "cell_type": "code",
   "execution_count": 24,
   "id": "e10ca424-8ad3-4d9a-aade-73cccec874cb",
   "metadata": {},
   "outputs": [
    {
     "name": "stdout",
     "output_type": "stream",
     "text": [
      "6\n",
      "6\n"
     ]
    }
   ],
   "source": [
    "# 덧셈, 곱셈 둘 다 연산 가능한 함수\n",
    "def add_mul(choice, *args): # 가변매개변수를 앞에 쓰고 초이스를 뒤에 쓰면 에러남 !\n",
    "    if choice =='add':\n",
    "        result = 0\n",
    "        for i in args :\n",
    "            result += i\n",
    "    elif choice =='mul':\n",
    "        result = 1\n",
    "        for i in args :\n",
    "            result *= i\n",
    "    return result\n",
    "\n",
    "res1 =add_mul('add',1,2,3)\n",
    "print(res1)\n",
    "\n",
    "res2 = add_mul('mul',1,2,3)\n",
    "print(res2)"
   ]
  },
  {
   "cell_type": "code",
   "execution_count": 27,
   "id": "9d8ccd20-95df-479c-9f9e-2bf7f54ff6e5",
   "metadata": {},
   "outputs": [
    {
     "name": "stdout",
     "output_type": "stream",
     "text": [
      "{'a': 1}\n",
      "{'name': 'foo', 'age': 3}\n"
     ]
    }
   ],
   "source": [
    "# 키워도 가변 매개변수(**매개변수) / 딕셔너리 타입으로 나옴\n",
    "def print_kwargs(**kwargs):\n",
    "    print(kwargs)\n",
    "\n",
    "print_kwargs(a=1)\n",
    "\n",
    "print_kwargs(name='foo',age=3)"
   ]
  },
  {
   "cell_type": "code",
   "execution_count": 33,
   "id": "b0c2f8f0-504d-4d79-884d-2648778ebe12",
   "metadata": {},
   "outputs": [
    {
     "name": "stdout",
     "output_type": "stream",
     "text": [
      "(7, 12)\n",
      "a+b = 7\n",
      "a*b = 12\n"
     ]
    }
   ],
   "source": [
    "# 함수의 리턴값은 하나 ! / 튜플로 반환\n",
    "def add_and_mul(a,b):\n",
    "    return a+b, a*b\n",
    "\n",
    "res = add_and_mul(3,4)\n",
    "print(res)\n",
    "\n",
    "res1, res2 = add_and_mul(3,4)\n",
    "print(\"a+b =\",res1)\n",
    "print(\"a*b =\",res2)"
   ]
  },
  {
   "cell_type": "code",
   "execution_count": 35,
   "id": "10a475e8-6da4-4518-8201-86ea109f17c2",
   "metadata": {},
   "outputs": [
    {
     "name": "stdout",
     "output_type": "stream",
     "text": [
      "5\n"
     ]
    }
   ],
   "source": [
    "def add_and_mul(a,b): # return은 값을 반환해주고 함수를 종료시키기 때문에 위에 값만 나옴\n",
    "    return a+b\n",
    "    return a*b\n",
    "\n",
    "res = add_and_mul(2,3)\n",
    "print(res)"
   ]
  },
  {
   "cell_type": "code",
   "execution_count": 39,
   "id": "d750fb9c-733b-43bd-9acd-94557efaba24",
   "metadata": {},
   "outputs": [
    {
     "name": "stdout",
     "output_type": "stream",
     "text": [
      "나의 별명은 야호 입니다.\n"
     ]
    }
   ],
   "source": [
    "# return의 또 다른 쓰임새\n",
    "def say_nick(nick):\n",
    "    if nick == '바보':\n",
    "        return\n",
    "    print(\"나의 별명은 %s 입니다.\"%nick)\n",
    "\n",
    "say_nick('야호')\n",
    "say_nick('바보') # return이 아무 값도 반환해주지 않아서 밑에 print 값이 안 나옴"
   ]
  },
  {
   "cell_type": "code",
   "execution_count": 41,
   "id": "99dfb98b-09f2-4292-b0ca-7768bb775156",
   "metadata": {},
   "outputs": [
    {
     "name": "stdout",
     "output_type": "stream",
     "text": [
      "나의 이름은 박선영입니다.\n",
      "나이는 28살입 니다.\n",
      "남자입니다.\n",
      "나의 이름은 박선영입니다.\n",
      "나이는 28살입 니다.\n",
      "여자입니다.\n"
     ]
    }
   ],
   "source": [
    "# 매개변수에 초기값 설정\n",
    "def say_myself(name, age, man=True):\n",
    "    print(f\"나의 이름은 {name}입니다.\")\n",
    "    print(f\"나이는 {age}살입 니다.\")\n",
    "    if man:\n",
    "        print(\"남자입니다.\")\n",
    "    else:\n",
    "        print(\"여자입니다.\")\n",
    "\n",
    "# 함수 호출\n",
    "say_myself('박선영',28)\n",
    "say_myself('박선영',28, False)"
   ]
  },
  {
   "cell_type": "code",
   "execution_count": 45,
   "id": "12c72d48-1465-4385-bf4b-cf0a19304935",
   "metadata": {},
   "outputs": [
    {
     "ename": "SyntaxError",
     "evalue": "parameter without a default follows parameter with a default (3934857549.py, line 1)",
     "output_type": "error",
     "traceback": [
      "\u001b[1;36m  Cell \u001b[1;32mIn[45], line 1\u001b[1;36m\u001b[0m\n\u001b[1;33m    def say_myself(name, man=True, age):\u001b[0m\n\u001b[1;37m                                   ^\u001b[0m\n\u001b[1;31mSyntaxError\u001b[0m\u001b[1;31m:\u001b[0m parameter without a default follows parameter with a default\n"
     ]
    }
   ],
   "source": [
    "def say_myself(name, man=True, age):\n",
    "    print(f\"나의 이름은 {name}입니다.\")\n",
    "    print(f\"나이는 {age}살입 니다.\")\n",
    "    if man:\n",
    "        print(\"남자입니다.\")\n",
    "    else:\n",
    "        print(\"여자입니다.\")\n",
    "\n",
    "# 함수 호출\n",
    "say_myself('박선영', ,28)\n",
    "say_myself('박선영',False,28)"
   ]
  },
  {
   "cell_type": "code",
   "execution_count": 46,
   "id": "e9ec669a-86cf-4afe-b2ef-5ba2fc36d015",
   "metadata": {},
   "outputs": [],
   "source": [
    "# 매개변수 순서가 중요\n",
    "# 위치인자 - 기본값인자 - 가변인자(*args) - 키워드인자 - 키워드가변인자(**)"
   ]
  },
  {
   "cell_type": "code",
   "execution_count": 57,
   "id": "fe7202f3-d803-4b05-9273-71a4fd840d0f",
   "metadata": {},
   "outputs": [
    {
     "name": "stdout",
     "output_type": "stream",
     "text": [
      "1\n"
     ]
    }
   ],
   "source": [
    "# 함수의 유효범위\n",
    "a = 1\n",
    "def vartest(a):\n",
    "    a += 1 # return을 안 하면 유효범위는 여기까지만 !\n",
    "    \n",
    "vartest(a) # 실행안됨\n",
    "print(a) # 함수 밖에 있는 a가 출력됨"
   ]
  },
  {
   "cell_type": "code",
   "execution_count": 64,
   "id": "c98e4579-899b-4ea8-a9f7-86f2d426405b",
   "metadata": {},
   "outputs": [
    {
     "name": "stdout",
     "output_type": "stream",
     "text": [
      "2\n"
     ]
    }
   ],
   "source": [
    "# 함수의 유효범위 => 해결책 1. return 사용하기\n",
    "a = 1\n",
    "def vartest(x):\n",
    "    x += 1\n",
    "    return x\n",
    "    \n",
    "a = vartest(a) # 함수 실행하면 x가 반환되고 a변수에 다시 덮어씀 \n",
    "               # 그냥 vartest(a)만 a에 값을 대입 안 해줘서 결과값이 1이 나옴\n",
    "print(a)"
   ]
  },
  {
   "cell_type": "code",
   "execution_count": 67,
   "id": "f1833a14-9ded-4717-ba49-66be8034ba92",
   "metadata": {},
   "outputs": [
    {
     "name": "stdout",
     "output_type": "stream",
     "text": [
      "2\n"
     ]
    }
   ],
   "source": [
    "# 함수의 유효범위 => 해결책 2. global 명령어 사용하기\n",
    "a = 1 \n",
    "def vartest():\n",
    "    global a # 함수 안에서 a는 전역변수로 변경됨 # 위에 선언한 a를 직접 건드림\n",
    "    a += 1\n",
    "\n",
    "vartest() # 함수를 호출해야 동작하기 때문에 호출하지 않으면 결과값이 1\n",
    "print(a)"
   ]
  },
  {
   "cell_type": "code",
   "execution_count": 68,
   "id": "fd53a425-89a8-4285-9406-10917ab3b0c3",
   "metadata": {},
   "outputs": [
    {
     "name": "stdout",
     "output_type": "stream",
     "text": [
      "7\n"
     ]
    }
   ],
   "source": [
    "# def add(a,b):\n",
    "#    return a+b\n",
    "#        ||\n",
    "# lambda a,b:a+b\n",
    "\n",
    "# Lambda 표현식(예약어) 사용 안 하고 함수 선언\n",
    "def add(a,b):\n",
    "    return a+b\n",
    "\n",
    "print(add(3,4))"
   ]
  },
  {
   "cell_type": "code",
   "execution_count": 69,
   "id": "12cfd092-d189-4258-a607-997d704e385a",
   "metadata": {},
   "outputs": [
    {
     "name": "stdout",
     "output_type": "stream",
     "text": [
      "7\n"
     ]
    }
   ],
   "source": [
    "# Lambda 표현식(예약어) 사용하여 표현\n",
    "add = lambda a,b : a+b\n",
    "\n",
    "print(add(3,4))"
   ]
  },
  {
   "cell_type": "markdown",
   "id": "d7c68c8a-7ca9-41bf-ba9f-6b72e37417f7",
   "metadata": {},
   "source": [
    "### 2. 함수의 활용"
   ]
  },
  {
   "cell_type": "markdown",
   "id": "639f72f8-189f-49d4-9a22-2cf332ca692f",
   "metadata": {},
   "source": [
    "#### 1.재귀함수\n",
    "####   : 내가 만든 함수를 다시 호출하는 것"
   ]
  },
  {
   "cell_type": "code",
   "execution_count": 70,
   "id": "6b2f0397-39f4-4880-bacc-4b2bb0571bb7",
   "metadata": {},
   "outputs": [
    {
     "name": "stdout",
     "output_type": "stream",
     "text": [
      "5! =  120\n"
     ]
    }
   ],
   "source": [
    "# 반복문으로 팩토리얼 구하기\n",
    "def factorial(n):\n",
    "    output = 1\n",
    "    for i in range(1,n+1):\n",
    "        output *= i\n",
    "    return output\n",
    "\n",
    "print('5! = ', factorial(5))"
   ]
  },
  {
   "cell_type": "code",
   "execution_count": 72,
   "id": "820f249f-501c-4e1d-8de7-a574d24e189b",
   "metadata": {},
   "outputs": [
    {
     "name": "stdout",
     "output_type": "stream",
     "text": [
      "5! =  120\n"
     ]
    }
   ],
   "source": [
    "# 재귀함수로 팩토리얼 구하기\n",
    "def factorial(n):\n",
    "    if n == 0 :\n",
    "        return 1\n",
    "    else :\n",
    "        return n * factorial(n-1)\n",
    "\n",
    "print('5! = ', factorial(5))"
   ]
  },
  {
   "cell_type": "markdown",
   "id": "b0d1fdc6-bd35-457b-84d0-5a0926f5049e",
   "metadata": {},
   "source": [
    "#### 2. 리스트 평탄화하는 재귀함수 만들기"
   ]
  },
  {
   "cell_type": "code",
   "execution_count": 77,
   "id": "e8081726-0d1a-4864-b370-6bc32c6304dc",
   "metadata": {},
   "outputs": [
    {
     "name": "stdout",
     "output_type": "stream",
     "text": [
      "4\n",
      "원본 :  [[1, 2, 3], [4, [5, 6]], 7, [8, 9]]\n",
      "과정 :  [1, 2, 3]\n",
      "과정 :  [1, 2, 3, 4, [5, 6]]\n",
      "과정 :  [1, 2, 3, 4, [5, 6], 7, 8, 9]\n",
      "평탄화 :  [1, 2, 3, 4, [5, 6], 7, 8, 9]\n"
     ]
    }
   ],
   "source": [
    "# 반복문으로 리스트 평탄화\n",
    "def flatten(data):\n",
    "    output = [] # 빈 리스트에 하나씩 다시 담아서 평탄화\n",
    "    for item in data:\n",
    "        if type(item) == list:\n",
    "            output +=item      # 괄호 없이 넣으려고 item만 더해줌\n",
    "            print('과정 : ', output)     # 결과만 보고 싶으면 안 써도 됨\n",
    "        else :\n",
    "            output.append(item)\n",
    "    return output\n",
    "\n",
    "example = [[1,2,3], [4, [5,6]],7,[8,9]]\n",
    "print(len(example))\n",
    "print('원본 : ',example)\n",
    "print('평탄화 : ', flatten(example))"
   ]
  },
  {
   "cell_type": "code",
   "execution_count": 79,
   "id": "7d5cb679-cfd4-4417-a220-51b05973c9ab",
   "metadata": {},
   "outputs": [
    {
     "name": "stdout",
     "output_type": "stream",
     "text": [
      "원본 :  [[1, 2, 3], [4, [5, 6]], 7, [8, 9]]\n",
      "평탄화 :  [1, 2, 3, 4, 5, 6, 7, 8, 9]\n"
     ]
    }
   ],
   "source": [
    "# 재귀 함수로 리스트 평탄화\n",
    "def flatten(data):\n",
    "    output = []\n",
    "    for item in data:\n",
    "        if type(item) == list:\n",
    "            output += flatten(item)\n",
    "        else :\n",
    "            output.append(item)\n",
    "    return output\n",
    "\n",
    "example = [[1,2,3], [4, [5,6]],7,[8,9]]\n",
    "print('원본 : ',example)\n",
    "print('평탄화 : ', flatten(example))"
   ]
  },
  {
   "cell_type": "code",
   "execution_count": null,
   "id": "0a19ce76-5f3d-45b3-8877-6a0f170aeee5",
   "metadata": {},
   "outputs": [],
   "source": []
  }
 ],
 "metadata": {
  "kernelspec": {
   "display_name": "Python 3 (ipykernel)",
   "language": "python",
   "name": "python3"
  },
  "language_info": {
   "codemirror_mode": {
    "name": "ipython",
    "version": 3
   },
   "file_extension": ".py",
   "mimetype": "text/x-python",
   "name": "python",
   "nbconvert_exporter": "python",
   "pygments_lexer": "ipython3",
   "version": "3.13.5"
  }
 },
 "nbformat": 4,
 "nbformat_minor": 5
}
